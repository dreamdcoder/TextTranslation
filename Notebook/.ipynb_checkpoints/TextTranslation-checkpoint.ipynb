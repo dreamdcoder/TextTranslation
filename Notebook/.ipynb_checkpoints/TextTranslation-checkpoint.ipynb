{
 "cells": [
  {
   "cell_type": "code",
   "execution_count": 1,
   "metadata": {
    "collapsed": true,
    "pycharm": {
     "name": "#%%\n"
    }
   },
   "outputs": [],
   "source": [
    "import pandas as pd\n",
    "# pd.set_option('display.max_rows', None)"
   ]
  },
  {
   "cell_type": "code",
   "execution_count": 3,
   "metadata": {
    "pycharm": {
     "name": "#%%\n"
    }
   },
   "outputs": [],
   "source": [
    "df=pd.read_csv(\"../Dataset/hindi_english_parallel.csv\", encoding=\"utf-8\")"
   ]
  },
  {
   "cell_type": "code",
   "execution_count": 4,
   "metadata": {
    "pycharm": {
     "name": "#%%\n"
    }
   },
   "outputs": [
    {
     "data": {
      "text/html": [
       "<div>\n",
       "<style scoped>\n",
       "    .dataframe tbody tr th:only-of-type {\n",
       "        vertical-align: middle;\n",
       "    }\n",
       "\n",
       "    .dataframe tbody tr th {\n",
       "        vertical-align: top;\n",
       "    }\n",
       "\n",
       "    .dataframe thead th {\n",
       "        text-align: right;\n",
       "    }\n",
       "</style>\n",
       "<table border=\"1\" class=\"dataframe\">\n",
       "  <thead>\n",
       "    <tr style=\"text-align: right;\">\n",
       "      <th></th>\n",
       "      <th>hindi</th>\n",
       "      <th>english</th>\n",
       "    </tr>\n",
       "  </thead>\n",
       "  <tbody>\n",
       "    <tr>\n",
       "      <th>0</th>\n",
       "      <td>अपने अनुप्रयोग को पहुंचनीयता व्यायाम का लाभ दें</td>\n",
       "      <td>Give your application an accessibility workout</td>\n",
       "    </tr>\n",
       "    <tr>\n",
       "      <th>1</th>\n",
       "      <td>एक्सेर्साइसर पहुंचनीयता अन्वेषक</td>\n",
       "      <td>Accerciser Accessibility Explorer</td>\n",
       "    </tr>\n",
       "    <tr>\n",
       "      <th>2</th>\n",
       "      <td>निचले पटल के लिए डिफोल्ट प्लग-इन खाका</td>\n",
       "      <td>The default plugin layout for the bottom panel</td>\n",
       "    </tr>\n",
       "    <tr>\n",
       "      <th>3</th>\n",
       "      <td>ऊपरी पटल के लिए डिफोल्ट प्लग-इन खाका</td>\n",
       "      <td>The default plugin layout for the top panel</td>\n",
       "    </tr>\n",
       "    <tr>\n",
       "      <th>4</th>\n",
       "      <td>उन प्लग-इनों की सूची जिन्हें डिफोल्ट रूप से नि...</td>\n",
       "      <td>A list of plugins that are disabled by default</td>\n",
       "    </tr>\n",
       "    <tr>\n",
       "      <th>...</th>\n",
       "      <td>...</td>\n",
       "      <td>...</td>\n",
       "    </tr>\n",
       "    <tr>\n",
       "      <th>1561836</th>\n",
       "      <td>स्पष्टीकरण.–जहां इस उपधारा के अधीन हानि और लाभ...</td>\n",
       "      <td>स्पष्टीकरण.–जहां इस उपधारा के अधीन हानि और लाभ...</td>\n",
       "    </tr>\n",
       "    <tr>\n",
       "      <th>1561837</th>\n",
       "      <td>मैंने गौर किया है कि यह न केवल अपने महत्त्वपूर...</td>\n",
       "      <td>है। I note that this is a landmark meeting – n...</td>\n",
       "    </tr>\n",
       "    <tr>\n",
       "      <th>1561838</th>\n",
       "      <td>उन्होंने मेरे समक्ष जो प्रदर्शन किया उसमें से ...</td>\n",
       "      <td>है। In the presentations that they made before...</td>\n",
       "    </tr>\n",
       "    <tr>\n",
       "      <th>1561839</th>\n",
       "      <td>खाद्य और जल सुरक्षा; पर्यावरण की दृष्टि से वहन...</td>\n",
       "      <td>्त है। Issues such as food and water security;...</td>\n",
       "    </tr>\n",
       "    <tr>\n",
       "      <th>1561840</th>\n",
       "      <td>NaN</td>\n",
       "      <td>NaN</td>\n",
       "    </tr>\n",
       "  </tbody>\n",
       "</table>\n",
       "<p>1561841 rows × 2 columns</p>\n",
       "</div>"
      ],
      "text/plain": [
       "                                                     hindi  \\\n",
       "0          अपने अनुप्रयोग को पहुंचनीयता व्यायाम का लाभ दें   \n",
       "1                          एक्सेर्साइसर पहुंचनीयता अन्वेषक   \n",
       "2                    निचले पटल के लिए डिफोल्ट प्लग-इन खाका   \n",
       "3                     ऊपरी पटल के लिए डिफोल्ट प्लग-इन खाका   \n",
       "4        उन प्लग-इनों की सूची जिन्हें डिफोल्ट रूप से नि...   \n",
       "...                                                    ...   \n",
       "1561836  स्पष्टीकरण.–जहां इस उपधारा के अधीन हानि और लाभ...   \n",
       "1561837  मैंने गौर किया है कि यह न केवल अपने महत्त्वपूर...   \n",
       "1561838  उन्होंने मेरे समक्ष जो प्रदर्शन किया उसमें से ...   \n",
       "1561839  खाद्य और जल सुरक्षा; पर्यावरण की दृष्टि से वहन...   \n",
       "1561840                                                NaN   \n",
       "\n",
       "                                                   english  \n",
       "0           Give your application an accessibility workout  \n",
       "1                        Accerciser Accessibility Explorer  \n",
       "2           The default plugin layout for the bottom panel  \n",
       "3              The default plugin layout for the top panel  \n",
       "4           A list of plugins that are disabled by default  \n",
       "...                                                    ...  \n",
       "1561836  स्पष्टीकरण.–जहां इस उपधारा के अधीन हानि और लाभ...  \n",
       "1561837  है। I note that this is a landmark meeting – n...  \n",
       "1561838  है। In the presentations that they made before...  \n",
       "1561839  ्त है। Issues such as food and water security;...  \n",
       "1561840                                                NaN  \n",
       "\n",
       "[1561841 rows x 2 columns]"
      ]
     },
     "execution_count": 4,
     "metadata": {},
     "output_type": "execute_result"
    }
   ],
   "source": [
    "df"
   ]
  },
  {
   "cell_type": "code",
   "execution_count": 5,
   "metadata": {
    "pycharm": {
     "name": "#%%\n"
    }
   },
   "outputs": [
    {
     "data": {
      "text/plain": [
       "hindi      6056\n",
       "english     725\n",
       "dtype: int64"
      ]
     },
     "execution_count": 5,
     "metadata": {},
     "output_type": "execute_result"
    }
   ],
   "source": [
    "df.isna().sum()"
   ]
  },
  {
   "cell_type": "code",
   "execution_count": 6,
   "metadata": {
    "pycharm": {
     "name": "#%%\n"
    }
   },
   "outputs": [],
   "source": [
    "df.dropna(inplace=True)"
   ]
  },
  {
   "cell_type": "code",
   "execution_count": 7,
   "metadata": {
    "pycharm": {
     "name": "#%%\n"
    }
   },
   "outputs": [
    {
     "data": {
      "text/plain": [
       "hindi      object\n",
       "english    object\n",
       "dtype: object"
      ]
     },
     "execution_count": 7,
     "metadata": {},
     "output_type": "execute_result"
    }
   ],
   "source": [
    "df.dtypes"
   ]
  },
  {
   "cell_type": "code",
   "execution_count": 8,
   "metadata": {
    "pycharm": {
     "name": "#%%\n"
    }
   },
   "outputs": [],
   "source": [
    "df['english']=df['english'].apply(lambda x:str(x))\n",
    "df['hindi']=df['hindi'].apply(lambda x:str(x))\n",
    "df['english']=df['english'].apply(lambda x:str.lower(x))"
   ]
  },
  {
   "cell_type": "code",
   "execution_count": 9,
   "metadata": {
    "pycharm": {
     "name": "#%%\n"
    }
   },
   "outputs": [
    {
     "data": {
      "text/plain": [
       "0             give your application an accessibility workout\n",
       "1                          accerciser accessibility explorer\n",
       "2             the default plugin layout for the bottom panel\n",
       "3                the default plugin layout for the top panel\n",
       "4             a list of plugins that are disabled by default\n",
       "                                 ...                        \n",
       "1561835                  शपथ लेने/प्रतिज्ञान करने वाले सदस्य\n",
       "1561836    स्पष्टीकरण.–जहां इस उपधारा के अधीन हानि और लाभ...\n",
       "1561837    है। i note that this is a landmark meeting – n...\n",
       "1561838    है। in the presentations that they made before...\n",
       "1561839    ्त है। issues such as food and water security;...\n",
       "Name: english, Length: 1555727, dtype: object"
      ]
     },
     "execution_count": 9,
     "metadata": {},
     "output_type": "execute_result"
    }
   ],
   "source": [
    "df['english']"
   ]
  },
  {
   "cell_type": "code",
   "execution_count": 26,
   "metadata": {
    "pycharm": {
     "name": "#%%\n"
    }
   },
   "outputs": [],
   "source": [
    "import string\n",
    "import re\n",
    "def lower_func(x):\n",
    "    return x.strip().lower()\n",
    "def remove_url(x):\n",
    " result = re.sub(r'http\\S+', '', x)\n",
    " return result\n",
    "\n",
    "def remove_hashtag(x):\n",
    " result = re.sub(r'#\\S+', '', x)\n",
    " return result\n",
    "\n",
    "def remove_mentions(x):\n",
    " result = re.sub(r'@\\S+', '', x)\n",
    " return result\n",
    "\n",
    "def remove_patterns(x):\n",
    " result = re.sub(r' _ ', '', x)\n",
    " return result\n",
    "\n",
    "def remove_punc_func(x):\n",
    "    new = ''\n",
    "    for a in x:\n",
    "        if a not in string.punctuation:\n",
    "            new = new + a\n",
    "        else :\n",
    "            new = new +' '\n",
    "    return new\n",
    "\n",
    "\n",
    "## 2.2 Remove special characters\n",
    "def remove_emojis(x):\n",
    "    emoji_pattern = re.compile(\"[\"\n",
    "                               u\"\\U0001F600-\\U0001F64F\"  # emoticons\n",
    "                               u\"\\U0001F300-\\U0001F5FF\"  # symbols & pictographs\n",
    "                               u\"\\U0001F680-\\U0001F6FF\"  # transport & map symbols\n",
    "                               u\"\\U0001F1E0-\\U0001F1FF\"  # flags (iOS)\n",
    "                               u\"\\U00002500-\\U00002BEF\"  # chinese char\n",
    "                               u\"\\U00002702-\\U000027B0\"\n",
    "                               u\"\\U00002702-\\U000027B0\"\n",
    "                               u\"\\U000024C2-\\U0001F251\"\n",
    "                               u\"\\U0001f926-\\U0001f937\"\n",
    "                               u\"\\U00010000-\\U0010ffff\"\n",
    "                               u\"\\u2640-\\u2642\"\n",
    "                               u\"\\u2600-\\u2B55\"\n",
    "                               u\"\\u200d\"\n",
    "                               u\"\\u23cf\"\n",
    "                               u\"\\u23e9\"\n",
    "                               u\"\\u231a\"\n",
    "                               u\"\\ufe0f\"  # dingbats\n",
    "                               u\"\\u3030\"\n",
    "                               \"]+\", flags=re.UNICODE)\n",
    "    result = emoji_pattern.sub(r'', x)\n",
    "    return result\n",
    "\n",
    "def remove_devnagari(x):\n",
    "    pattern = re.compile(\"[\"u\"\\u0900-\\u097F\"\"]\", flags=re.UNICODE)\n",
    "    result = re.search(pattern,x)\n",
    "    if result is None:\n",
    "        return x\n",
    "    else:\n",
    "        return ''\n",
    "\n",
    "def remove_nondevnagari(x):\n",
    "    pattern = re.compile(\"[^\"u\"\\u0900-\\u097F\"\" ]\", flags=re.UNICODE)\n",
    "    result = pattern.sub(r'', x)\n",
    "    return result\n",
    "\n",
    "def remove_digits(x):\n",
    "    pattern = re.compile(\"\\d+\")\n",
    "    result = pattern.sub(r'', x)\n",
    "    return result\n",
    "\n",
    "def remove_spec_char_func(x):\n",
    "    new=''\n",
    "    for a in x:\n",
    "        if (a.isalnum()==True) or (a==' '):\n",
    "            new=new+a\n",
    "        else :\n",
    "            new = new +' '\n",
    "    return new\n",
    "\n",
    "def remove_quotes(x):\n",
    "    x = re.sub(\"'\",'',x)\n",
    "    x = re.sub('\"','',x)\n",
    "    return x\n",
    "\n",
    "def remove_devnagari_digits(x):\n",
    "    pattern = re.compile(\"[\"u\"\\u0966-\\u096F\"\"]+\", flags=re.UNICODE)\n",
    "    result = pattern.sub(r'', x)\n",
    "    return result\n",
    "\n",
    "def remove_english(x):\n",
    "    pattern = re.compile(\"[\"u\"\\u0041-\\u007A\"\"]+\", flags=re.UNICODE)\n",
    "    # pattern = re.compile(\"^[u0900-u097F].*\", flags=re.UNICODE)\n",
    "    result = re.search(pattern,x)\n",
    "    if result is None:\n",
    "        return x\n",
    "    else:\n",
    "        return ''\n",
    "\n",
    "def remove_html(x):\n",
    "    c = re.compile(r'<.*?>')\n",
    "    result=re.sub(c,'',x)\n",
    "    return result"
   ]
  },
  {
   "cell_type": "code",
   "execution_count": 16,
   "metadata": {
    "pycharm": {
     "name": "#%%\n"
    }
   },
   "outputs": [],
   "source": [
    "def clean_text_english(x):\n",
    "    x= lower_func(x)\n",
    "    x = remove_patterns(x)\n",
    "    x=remove_url(x)\n",
    "    x=remove_hashtag(x)\n",
    "    x=remove_mentions(x)\n",
    "    x=remove_punc_func(x)\n",
    "    x=remove_emojis(x)\n",
    "    x=remove_spec_char_func(x)\n",
    "    x=remove_html(x)\n",
    "    x= remove_devnagari(x)\n",
    "    x=remove_digits(x)\n",
    "    x=remove_quotes(x)\n",
    "    return x"
   ]
  },
  {
   "cell_type": "code",
   "execution_count": 29,
   "metadata": {
    "pycharm": {
     "name": "#%%\n"
    }
   },
   "outputs": [],
   "source": [
    "def clean_text_hindi(x):\n",
    "    x= lower_func(x)\n",
    "    x = remove_patterns(x)\n",
    "    x=remove_url(x)\n",
    "    x=remove_hashtag(x)\n",
    "    x=remove_mentions(x)\n",
    "    x=remove_punc_func(x)\n",
    "    x=remove_emojis(x)\n",
    "    # x=remove_spec_char_func(x)\n",
    "    x=remove_html(x)\n",
    "    x= remove_english(x)\n",
    "    x=remove_devnagari_digits(x)\n",
    "    x=remove_digits(x)\n",
    "    x=remove_nondevnagari(x)\n",
    "    x=remove_quotes(x)\n",
    "    return x"
   ]
  },
  {
   "cell_type": "code",
   "execution_count": 18,
   "metadata": {
    "pycharm": {
     "name": "#%%\n"
    }
   },
   "outputs": [],
   "source": [
    "df.reset_index(drop=True,inplace=True)\n",
    "df_new=df.copy()"
   ]
  },
  {
   "cell_type": "code",
   "execution_count": 30,
   "metadata": {
    "pycharm": {
     "name": "#%%\n"
    }
   },
   "outputs": [],
   "source": [
    "df_new['clean_english']=df_new['english'].apply(lambda x: clean_text_english(x))\n",
    "df_new['clean_hindi']=df_new['hindi'].apply(lambda x: clean_text_hindi(x))"
   ]
  },
  {
   "cell_type": "code",
   "execution_count": 21,
   "metadata": {
    "pycharm": {
     "name": "#%%\n"
    }
   },
   "outputs": [],
   "source": [
    "df_new['clean_english']=df_new['clean_english'].str.strip()\n",
    "df_new['clean_hindi']=df_new['clean_hindi'].str.strip()\n",
    "df_new=df_new[df_new['clean_english']!='']\n",
    "df_new=df_new[df_new['clean_hindi']!='']\n",
    "df_new.reset_index(drop=True,inplace=True)"
   ]
  },
  {
   "cell_type": "code",
   "execution_count": 46,
   "metadata": {
    "pycharm": {
     "name": "#%%\n"
    }
   },
   "outputs": [
    {
     "name": "stderr",
     "output_type": "stream",
     "text": [
      "C:\\Users\\Yogesh\\AppData\\Local\\Temp\\ipykernel_32248\\1577185266.py:2: SettingWithCopyWarning: \n",
      "A value is trying to be set on a copy of a slice from a DataFrame\n",
      "\n",
      "See the caveats in the documentation: https://pandas.pydata.org/pandas-docs/stable/user_guide/indexing.html#returning-a-view-versus-a-copy\n",
      "  dataset.drop_duplicates(inplace=True)\n"
     ]
    }
   ],
   "source": [
    "dataset=df_new[['clean_english','clean_hindi']]\n",
    "dataset.drop_duplicates(inplace=True)"
   ]
  },
  {
   "cell_type": "code",
   "execution_count": 47,
   "metadata": {
    "pycharm": {
     "name": "#%%\n"
    }
   },
   "outputs": [
    {
     "name": "stdout",
     "output_type": "stream",
     "text": [
      "['जुबिन मेहता के संगीत में सीमाओं के आर-पार पहुंचने की क्षमता है।'\n",
      " 'zubin mehta’s music has the power to transcend boundaries.'\n",
      " 'zubin mehta s music has the power to transcend boundaries'\n",
      " 'जुबिन मेहता के संगीत में सीमाओं के आर पार पहुंचने की क्षमता है।']\n"
     ]
    }
   ],
   "source": [
    "print(df_new.iloc[1418634].values)"
   ]
  },
  {
   "cell_type": "code",
   "execution_count": 1,
   "metadata": {
    "pycharm": {
     "name": "#%%\n"
    }
   },
   "outputs": [],
   "source": [
    "from pickle import dump,load\n",
    "def save_clean_data(sentences, filename):\n",
    "    dump(sentences, open(\"../Dataset/\"+filename, 'wb'))\n",
    "    print('Saved: %s' %filename)\n",
    "\n",
    "def load_clean_data(filename):\n",
    "    return load(open(\"../Dataset/\"+filename,'rb'))"
   ]
  },
  {
   "cell_type": "code",
   "execution_count": 51,
   "metadata": {
    "pycharm": {
     "name": "#%%\n"
    }
   },
   "outputs": [],
   "source": [
    "from random import shuffle\n",
    "\n",
    "n_sentences = 100000\n",
    "dataset = dataset.iloc[:n_sentences]\n",
    "dataset.sample(frac=1)\n",
    "dataset.reset_index(drop=True,inplace=True)\n"
   ]
  },
  {
   "cell_type": "code",
   "execution_count": 52,
   "metadata": {
    "pycharm": {
     "name": "#%%\n"
    }
   },
   "outputs": [
    {
     "data": {
      "text/html": [
       "<div>\n",
       "<style scoped>\n",
       "    .dataframe tbody tr th:only-of-type {\n",
       "        vertical-align: middle;\n",
       "    }\n",
       "\n",
       "    .dataframe tbody tr th {\n",
       "        vertical-align: top;\n",
       "    }\n",
       "\n",
       "    .dataframe thead th {\n",
       "        text-align: right;\n",
       "    }\n",
       "</style>\n",
       "<table border=\"1\" class=\"dataframe\">\n",
       "  <thead>\n",
       "    <tr style=\"text-align: right;\">\n",
       "      <th></th>\n",
       "      <th>clean_english</th>\n",
       "      <th>clean_hindi</th>\n",
       "    </tr>\n",
       "  </thead>\n",
       "  <tbody>\n",
       "    <tr>\n",
       "      <th>0</th>\n",
       "      <td>give your application an accessibility workout</td>\n",
       "      <td>अपने अनुप्रयोग को पहुंचनीयता व्यायाम का लाभ दें</td>\n",
       "    </tr>\n",
       "    <tr>\n",
       "      <th>1</th>\n",
       "      <td>accerciser accessibility explorer</td>\n",
       "      <td>एक्सेर्साइसर पहुंचनीयता अन्वेषक</td>\n",
       "    </tr>\n",
       "    <tr>\n",
       "      <th>2</th>\n",
       "      <td>the default plugin layout for the bottom panel</td>\n",
       "      <td>निचले पटल के लिए डिफोल्ट प्लग इन खाका</td>\n",
       "    </tr>\n",
       "    <tr>\n",
       "      <th>3</th>\n",
       "      <td>the default plugin layout for the top panel</td>\n",
       "      <td>ऊपरी पटल के लिए डिफोल्ट प्लग इन खाका</td>\n",
       "    </tr>\n",
       "    <tr>\n",
       "      <th>4</th>\n",
       "      <td>a list of plugins that are disabled by default</td>\n",
       "      <td>उन प्लग इनों की सूची जिन्हें डिफोल्ट रूप से नि...</td>\n",
       "    </tr>\n",
       "    <tr>\n",
       "      <th>...</th>\n",
       "      <td>...</td>\n",
       "      <td>...</td>\n",
       "    </tr>\n",
       "    <tr>\n",
       "      <th>99995</th>\n",
       "      <td>whosoever worketh righteously  male or female ...</td>\n",
       "      <td>जिस किसी ने भी अच्छा कर्म किया  पुरुष हो या स्...</td>\n",
       "    </tr>\n",
       "    <tr>\n",
       "      <th>99996</th>\n",
       "      <td>and when thou wouldst read the qur  an seek re...</td>\n",
       "      <td>अतः जब तुम क़ुरआन पढ़ने लगो तो फिटकारे हुए शैत...</td>\n",
       "    </tr>\n",
       "    <tr>\n",
       "      <th>99997</th>\n",
       "      <td>verily he hath no authority over those who bel...</td>\n",
       "      <td>उसका तो उन लोगों पर कोई ज़ोर नहीं चलता जो ईमान...</td>\n",
       "    </tr>\n",
       "    <tr>\n",
       "      <th>99998</th>\n",
       "      <td>his authority is only over those who befriend ...</td>\n",
       "      <td>उसका ज़ोर तो बस उन्हीं लोगों पर चलता है जो उसे...</td>\n",
       "    </tr>\n",
       "    <tr>\n",
       "      <th>99999</th>\n",
       "      <td>and whenever we change a verse in place of ano...</td>\n",
       "      <td>जब हम किसी आयत की जगह दूसरी आयत बदलकर लाते है ...</td>\n",
       "    </tr>\n",
       "  </tbody>\n",
       "</table>\n",
       "<p>100000 rows × 2 columns</p>\n",
       "</div>"
      ],
      "text/plain": [
       "                                           clean_english  \\\n",
       "0         give your application an accessibility workout   \n",
       "1                      accerciser accessibility explorer   \n",
       "2         the default plugin layout for the bottom panel   \n",
       "3            the default plugin layout for the top panel   \n",
       "4         a list of plugins that are disabled by default   \n",
       "...                                                  ...   \n",
       "99995  whosoever worketh righteously  male or female ...   \n",
       "99996  and when thou wouldst read the qur  an seek re...   \n",
       "99997  verily he hath no authority over those who bel...   \n",
       "99998  his authority is only over those who befriend ...   \n",
       "99999  and whenever we change a verse in place of ano...   \n",
       "\n",
       "                                             clean_hindi  \n",
       "0        अपने अनुप्रयोग को पहुंचनीयता व्यायाम का लाभ दें  \n",
       "1                        एक्सेर्साइसर पहुंचनीयता अन्वेषक  \n",
       "2                  निचले पटल के लिए डिफोल्ट प्लग इन खाका  \n",
       "3                   ऊपरी पटल के लिए डिफोल्ट प्लग इन खाका  \n",
       "4      उन प्लग इनों की सूची जिन्हें डिफोल्ट रूप से नि...  \n",
       "...                                                  ...  \n",
       "99995  जिस किसी ने भी अच्छा कर्म किया  पुरुष हो या स्...  \n",
       "99996  अतः जब तुम क़ुरआन पढ़ने लगो तो फिटकारे हुए शैत...  \n",
       "99997  उसका तो उन लोगों पर कोई ज़ोर नहीं चलता जो ईमान...  \n",
       "99998  उसका ज़ोर तो बस उन्हीं लोगों पर चलता है जो उसे...  \n",
       "99999  जब हम किसी आयत की जगह दूसरी आयत बदलकर लाते है ...  \n",
       "\n",
       "[100000 rows x 2 columns]"
      ]
     },
     "execution_count": 52,
     "metadata": {},
     "output_type": "execute_result"
    }
   ],
   "source": [
    "dataset"
   ]
  },
  {
   "cell_type": "code",
   "execution_count": 53,
   "metadata": {
    "pycharm": {
     "name": "#%%\n"
    }
   },
   "outputs": [],
   "source": [
    "train, test = dataset[:80000], dataset[80000:]"
   ]
  },
  {
   "cell_type": "code",
   "execution_count": 55,
   "metadata": {
    "pycharm": {
     "name": "#%%\n"
    }
   },
   "outputs": [
    {
     "name": "stdout",
     "output_type": "stream",
     "text": [
      "Saved: english-hindi-both.pkl\n",
      "Saved: english-hindi-train.pkl\n",
      "Saved: english-hindi-test.pkl\n"
     ]
    }
   ],
   "source": [
    "save_clean_data(dataset, 'english-hindi-both.pkl')\n",
    "save_clean_data(train, 'english-hindi-train.pkl')\n",
    "save_clean_data(test, 'english-hindi-test.pkl')"
   ]
  },
  {
   "cell_type": "code",
   "execution_count": 2,
   "metadata": {
    "pycharm": {
     "name": "#%%\n"
    }
   },
   "outputs": [],
   "source": [
    "dataset=load_clean_data('english-hindi-both.pkl')\n",
    "train=load_clean_data('english-hindi-train.pkl')\n",
    "test=load_clean_data('english-hindi-test.pkl')"
   ]
  },
  {
   "cell_type": "code",
   "execution_count": null,
   "metadata": {},
   "outputs": [],
   "source": [
    "train, test = dataset[:50000], dataset[50000:]"
   ]
  },
  {
   "cell_type": "code",
   "execution_count": 3,
   "metadata": {
    "pycharm": {
     "name": "#%%\n"
    }
   },
   "outputs": [
    {
     "name": "stderr",
     "output_type": "stream",
     "text": [
      "C:\\Users\\Yogesh\\anaconda3\\envs\\NLP\\lib\\site-packages\\scipy\\__init__.py:146: UserWarning: A NumPy version >=1.16.5 and <1.23.0 is required for this version of SciPy (detected version 1.23.3\n",
      "  warnings.warn(f\"A NumPy version >={np_minversion} and <{np_maxversion}\"\n"
     ]
    }
   ],
   "source": [
    "from tensorflow.keras.preprocessing.text import Tokenizer\n",
    "import warnings\n",
    "warnings.filterwarnings('ignore')\n",
    "def create_tokenizer(lines):\n",
    "    tokenizer = Tokenizer()\n",
    "    tokenizer.fit_on_texts(lines)\n",
    "    return tokenizer"
   ]
  },
  {
   "cell_type": "code",
   "execution_count": 4,
   "metadata": {
    "pycharm": {
     "name": "#%%\n"
    }
   },
   "outputs": [],
   "source": [
    "def max_length(lines):\n",
    "    return max(len(line.split()) for line in lines)"
   ]
  },
  {
   "cell_type": "code",
   "execution_count": 5,
   "metadata": {
    "pycharm": {
     "name": "#%%\n"
    }
   },
   "outputs": [
    {
     "name": "stdout",
     "output_type": "stream",
     "text": [
      "English Vocabulary Size: 21796\n",
      "English Max Length: 290\n"
     ]
    }
   ],
   "source": [
    "eng_tokenizer = create_tokenizer(dataset['clean_english'])\n",
    "eng_vocab_size = len(eng_tokenizer.word_index) +1\n",
    "eng_length = max_length(dataset['clean_english'])\n",
    "print(\"English Vocabulary Size: %d\" %eng_vocab_size)\n",
    "print(\"English Max Length: %d\" %(eng_length))"
   ]
  },
  {
   "cell_type": "code",
   "execution_count": 6,
   "metadata": {
    "pycharm": {
     "name": "#%%\n"
    }
   },
   "outputs": [
    {
     "name": "stdout",
     "output_type": "stream",
     "text": [
      "Hindi Vocabulary Size: 29780\n",
      "Hindi Max Length: 351\n"
     ]
    }
   ],
   "source": [
    "hin_tokenizer = create_tokenizer(dataset['clean_hindi'])\n",
    "hin_vocab_size = len(hin_tokenizer.word_index) +1\n",
    "hin_length = max_length(dataset['clean_hindi'])\n",
    "print(\"Hindi Vocabulary Size: %d\" %hin_vocab_size)\n",
    "print(\"Hindi Max Length: %d\" %(hin_length))"
   ]
  },
  {
   "cell_type": "code",
   "execution_count": 7,
   "metadata": {
    "pycharm": {
     "name": "#%%\n"
    }
   },
   "outputs": [],
   "source": [
    "from keras_preprocessing.sequence import pad_sequences\n",
    "\n",
    "def encode_sequences(tokenizer, length, lines):\n",
    "    X = tokenizer.texts_to_sequences(lines)\n",
    "    X = pad_sequences(X, maxlen=length, padding = 'post')\n",
    "    return X"
   ]
  },
  {
   "cell_type": "code",
   "execution_count": null,
   "metadata": {
    "pycharm": {
     "name": "#%%\n"
    }
   },
   "outputs": [],
   "source": [
    "# train"
   ]
  },
  {
   "cell_type": "code",
   "execution_count": null,
   "metadata": {
    "pycharm": {
     "name": "#%%\n"
    }
   },
   "outputs": [],
   "source": [
    "from numpy import array\n",
    "from keras.utils import to_categorical\n",
    "def encode_output(sequences, vocab_size):\n",
    "    ylist = list()\n",
    "    for sequence in sequences:\n",
    "        encoded = to_categorical(sequence, num_classes = vocab_size)\n",
    "        ylist.append(encoded)\n",
    "    y = array(ylist)\n",
    "    y = y.reshape(sequences.shape[0], sequences.shape[1], vocab_size)\n",
    "    return y"
   ]
  },
  {
   "cell_type": "code",
   "execution_count": null,
   "metadata": {
    "pycharm": {
     "name": "#%%\n"
    }
   },
   "outputs": [],
   "source": [
    "trainX = encode_sequences(eng_tokenizer, eng_length, train['clean_english'])\n",
    "# trainY = encode_sequences(hin_tokenizer, hin_length, train['clean_hindi'])\n",
    "# trainY = encode_output(trainY, hin_vocab_size)"
   ]
  },
  {
   "cell_type": "code",
   "execution_count": null,
   "metadata": {
    "pycharm": {
     "name": "#%%\n"
    }
   },
   "outputs": [],
   "source": [
    "trainY = encode_sequences(hin_tokenizer, hin_length, train['clean_hindi'])"
   ]
  },
  {
   "cell_type": "code",
   "execution_count": null,
   "metadata": {
    "pycharm": {
     "name": "#%%\n"
    }
   },
   "outputs": [],
   "source": [
    "trainY = encode_output(trainY, hin_vocab_size)"
   ]
  },
  {
   "cell_type": "code",
   "execution_count": null,
   "metadata": {
    "pycharm": {
     "name": "#%%\n"
    }
   },
   "outputs": [],
   "source": [
    "import numpy as np\n",
    "print(np.max(trainX),np.max(trainY))"
   ]
  },
  {
   "cell_type": "code",
   "execution_count": 12,
   "metadata": {
    "pycharm": {
     "name": "#%%\n"
    }
   },
   "outputs": [],
   "source": [
    "trainY = encode_sequences(hin_tokenizer, hin_length, train['clean_hindi'])"
   ]
  },
  {
   "cell_type": "code",
   "execution_count": 19,
   "metadata": {},
   "outputs": [
    {
     "ename": "MemoryError",
     "evalue": "Unable to allocate 39.9 MiB for an array with shape (351, 29780) and data type float32",
     "output_type": "error",
     "traceback": [
      "\u001b[1;31m---------------------------------------------------------------------------\u001b[0m",
      "\u001b[1;31mMemoryError\u001b[0m                               Traceback (most recent call last)",
      "Input \u001b[1;32mIn [19]\u001b[0m, in \u001b[0;36m<cell line: 1>\u001b[1;34m()\u001b[0m\n\u001b[1;32m----> 1\u001b[0m trainY \u001b[38;5;241m=\u001b[39m \u001b[43mencode_output\u001b[49m\u001b[43m(\u001b[49m\u001b[43mtrainY\u001b[49m\u001b[43m,\u001b[49m\u001b[43m \u001b[49m\u001b[43mhin_vocab_size\u001b[49m\u001b[43m)\u001b[49m\n",
      "Input \u001b[1;32mIn [10]\u001b[0m, in \u001b[0;36mencode_output\u001b[1;34m(sequences, vocab_size)\u001b[0m\n\u001b[0;32m      4\u001b[0m ylist \u001b[38;5;241m=\u001b[39m \u001b[38;5;28mlist\u001b[39m()\n\u001b[0;32m      5\u001b[0m \u001b[38;5;28;01mfor\u001b[39;00m sequence \u001b[38;5;129;01min\u001b[39;00m sequences:\n\u001b[1;32m----> 6\u001b[0m     encoded \u001b[38;5;241m=\u001b[39m \u001b[43mto_categorical\u001b[49m\u001b[43m(\u001b[49m\u001b[43msequence\u001b[49m\u001b[43m,\u001b[49m\u001b[43m \u001b[49m\u001b[43mnum_classes\u001b[49m\u001b[43m \u001b[49m\u001b[38;5;241;43m=\u001b[39;49m\u001b[43m \u001b[49m\u001b[43mvocab_size\u001b[49m\u001b[43m)\u001b[49m\n\u001b[0;32m      7\u001b[0m     ylist\u001b[38;5;241m.\u001b[39mappend(encoded)\n\u001b[0;32m      8\u001b[0m y \u001b[38;5;241m=\u001b[39m array(ylist)\n",
      "File \u001b[1;32m~\\anaconda3\\envs\\NLP\\lib\\site-packages\\keras\\utils\\np_utils.py:70\u001b[0m, in \u001b[0;36mto_categorical\u001b[1;34m(y, num_classes, dtype)\u001b[0m\n\u001b[0;32m     68\u001b[0m   num_classes \u001b[38;5;241m=\u001b[39m np\u001b[38;5;241m.\u001b[39mmax(y) \u001b[38;5;241m+\u001b[39m \u001b[38;5;241m1\u001b[39m\n\u001b[0;32m     69\u001b[0m n \u001b[38;5;241m=\u001b[39m y\u001b[38;5;241m.\u001b[39mshape[\u001b[38;5;241m0\u001b[39m]\n\u001b[1;32m---> 70\u001b[0m categorical \u001b[38;5;241m=\u001b[39m \u001b[43mnp\u001b[49m\u001b[38;5;241;43m.\u001b[39;49m\u001b[43mzeros\u001b[49m\u001b[43m(\u001b[49m\u001b[43m(\u001b[49m\u001b[43mn\u001b[49m\u001b[43m,\u001b[49m\u001b[43m \u001b[49m\u001b[43mnum_classes\u001b[49m\u001b[43m)\u001b[49m\u001b[43m,\u001b[49m\u001b[43m \u001b[49m\u001b[43mdtype\u001b[49m\u001b[38;5;241;43m=\u001b[39;49m\u001b[43mdtype\u001b[49m\u001b[43m)\u001b[49m\n\u001b[0;32m     71\u001b[0m categorical[np\u001b[38;5;241m.\u001b[39marange(n), y] \u001b[38;5;241m=\u001b[39m \u001b[38;5;241m1\u001b[39m\n\u001b[0;32m     72\u001b[0m output_shape \u001b[38;5;241m=\u001b[39m input_shape \u001b[38;5;241m+\u001b[39m (num_classes,)\n",
      "\u001b[1;31mMemoryError\u001b[0m: Unable to allocate 39.9 MiB for an array with shape (351, 29780) and data type float32"
     ]
    }
   ],
   "source": [
    "trainY = encode_output(trainY, hin_vocab_size)"
   ]
  },
  {
   "cell_type": "code",
   "execution_count": 18,
   "metadata": {},
   "outputs": [
    {
     "name": "stdout",
     "output_type": "stream",
     "text": [
      "21192 29779\n"
     ]
    }
   ],
   "source": [
    "import numpy as np\n",
    "print(np.max(trainX),np.max(trainY))"
   ]
  },
  {
   "cell_type": "code",
   "execution_count": null,
   "metadata": {},
   "outputs": [],
   "source": []
  }
 ],
 "metadata": {
  "kernelspec": {
   "display_name": "Python 3 (ipykernel)",
   "language": "python",
   "name": "python3"
  },
  "language_info": {
   "codemirror_mode": {
    "name": "ipython",
    "version": 3
   },
   "file_extension": ".py",
   "mimetype": "text/x-python",
   "name": "python",
   "nbconvert_exporter": "python",
   "pygments_lexer": "ipython3",
   "version": "3.9.13"
  }
 },
 "nbformat": 4,
 "nbformat_minor": 1
}
