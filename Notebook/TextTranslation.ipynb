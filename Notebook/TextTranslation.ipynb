{
 "cells": [
  {
   "cell_type": "code",
   "execution_count": 1,
   "metadata": {
    "pycharm": {
     "name": "#%%\n"
    }
   },
   "outputs": [],
   "source": [
    "import pandas as pd\n",
    "# pd.set_option('display.max_rows', None)"
   ]
  },
  {
   "cell_type": "code",
   "execution_count": 2,
   "outputs": [],
   "source": [
    "df=pd.read_csv(\"../Dataset/hindi_english_parallel.csv\", encoding=\"utf-8\")"
   ],
   "metadata": {
    "collapsed": false,
    "pycharm": {
     "name": "#%%\n"
    }
   }
  },
  {
   "cell_type": "code",
   "execution_count": 3,
   "outputs": [
    {
     "data": {
      "text/plain": "                                                     hindi  \\\n0          अपने अनुप्रयोग को पहुंचनीयता व्यायाम का लाभ दें   \n1                          एक्सेर्साइसर पहुंचनीयता अन्वेषक   \n2                    निचले पटल के लिए डिफोल्ट प्लग-इन खाका   \n3                     ऊपरी पटल के लिए डिफोल्ट प्लग-इन खाका   \n4        उन प्लग-इनों की सूची जिन्हें डिफोल्ट रूप से नि...   \n...                                                    ...   \n1561836  स्पष्टीकरण.–जहां इस उपधारा के अधीन हानि और लाभ...   \n1561837  मैंने गौर किया है कि यह न केवल अपने महत्त्वपूर...   \n1561838  उन्होंने मेरे समक्ष जो प्रदर्शन किया उसमें से ...   \n1561839  खाद्य और जल सुरक्षा; पर्यावरण की दृष्टि से वहन...   \n1561840                                                NaN   \n\n                                                   english  \n0           Give your application an accessibility workout  \n1                        Accerciser Accessibility Explorer  \n2           The default plugin layout for the bottom panel  \n3              The default plugin layout for the top panel  \n4           A list of plugins that are disabled by default  \n...                                                    ...  \n1561836  स्पष्टीकरण.–जहां इस उपधारा के अधीन हानि और लाभ...  \n1561837  है। I note that this is a landmark meeting – n...  \n1561838  है। In the presentations that they made before...  \n1561839  ्त है। Issues such as food and water security;...  \n1561840                                                NaN  \n\n[1561841 rows x 2 columns]",
      "text/html": "<div>\n<style scoped>\n    .dataframe tbody tr th:only-of-type {\n        vertical-align: middle;\n    }\n\n    .dataframe tbody tr th {\n        vertical-align: top;\n    }\n\n    .dataframe thead th {\n        text-align: right;\n    }\n</style>\n<table border=\"1\" class=\"dataframe\">\n  <thead>\n    <tr style=\"text-align: right;\">\n      <th></th>\n      <th>hindi</th>\n      <th>english</th>\n    </tr>\n  </thead>\n  <tbody>\n    <tr>\n      <th>0</th>\n      <td>अपने अनुप्रयोग को पहुंचनीयता व्यायाम का लाभ दें</td>\n      <td>Give your application an accessibility workout</td>\n    </tr>\n    <tr>\n      <th>1</th>\n      <td>एक्सेर्साइसर पहुंचनीयता अन्वेषक</td>\n      <td>Accerciser Accessibility Explorer</td>\n    </tr>\n    <tr>\n      <th>2</th>\n      <td>निचले पटल के लिए डिफोल्ट प्लग-इन खाका</td>\n      <td>The default plugin layout for the bottom panel</td>\n    </tr>\n    <tr>\n      <th>3</th>\n      <td>ऊपरी पटल के लिए डिफोल्ट प्लग-इन खाका</td>\n      <td>The default plugin layout for the top panel</td>\n    </tr>\n    <tr>\n      <th>4</th>\n      <td>उन प्लग-इनों की सूची जिन्हें डिफोल्ट रूप से नि...</td>\n      <td>A list of plugins that are disabled by default</td>\n    </tr>\n    <tr>\n      <th>...</th>\n      <td>...</td>\n      <td>...</td>\n    </tr>\n    <tr>\n      <th>1561836</th>\n      <td>स्पष्टीकरण.–जहां इस उपधारा के अधीन हानि और लाभ...</td>\n      <td>स्पष्टीकरण.–जहां इस उपधारा के अधीन हानि और लाभ...</td>\n    </tr>\n    <tr>\n      <th>1561837</th>\n      <td>मैंने गौर किया है कि यह न केवल अपने महत्त्वपूर...</td>\n      <td>है। I note that this is a landmark meeting – n...</td>\n    </tr>\n    <tr>\n      <th>1561838</th>\n      <td>उन्होंने मेरे समक्ष जो प्रदर्शन किया उसमें से ...</td>\n      <td>है। In the presentations that they made before...</td>\n    </tr>\n    <tr>\n      <th>1561839</th>\n      <td>खाद्य और जल सुरक्षा; पर्यावरण की दृष्टि से वहन...</td>\n      <td>्त है। Issues such as food and water security;...</td>\n    </tr>\n    <tr>\n      <th>1561840</th>\n      <td>NaN</td>\n      <td>NaN</td>\n    </tr>\n  </tbody>\n</table>\n<p>1561841 rows × 2 columns</p>\n</div>"
     },
     "execution_count": 3,
     "metadata": {},
     "output_type": "execute_result"
    }
   ],
   "source": [
    "df"
   ],
   "metadata": {
    "collapsed": false,
    "pycharm": {
     "name": "#%%\n"
    }
   }
  },
  {
   "cell_type": "code",
   "execution_count": 4,
   "outputs": [
    {
     "data": {
      "text/plain": "hindi      6056\nenglish     725\ndtype: int64"
     },
     "execution_count": 4,
     "metadata": {},
     "output_type": "execute_result"
    }
   ],
   "source": [
    "df.isna().sum()"
   ],
   "metadata": {
    "collapsed": false,
    "pycharm": {
     "name": "#%%\n"
    }
   }
  },
  {
   "cell_type": "code",
   "execution_count": 5,
   "outputs": [],
   "source": [
    "df.dropna(inplace=True)"
   ],
   "metadata": {
    "collapsed": false,
    "pycharm": {
     "name": "#%%\n"
    }
   }
  },
  {
   "cell_type": "code",
   "execution_count": 6,
   "outputs": [
    {
     "data": {
      "text/plain": "hindi      object\nenglish    object\ndtype: object"
     },
     "execution_count": 6,
     "metadata": {},
     "output_type": "execute_result"
    }
   ],
   "source": [
    "df.dtypes"
   ],
   "metadata": {
    "collapsed": false,
    "pycharm": {
     "name": "#%%\n"
    }
   }
  },
  {
   "cell_type": "code",
   "execution_count": 7,
   "outputs": [],
   "source": [
    "df['english']=df['english'].apply(lambda x:str(x))\n",
    "df['hindi']=df['hindi'].apply(lambda x:str(x))\n",
    "df['english']=df['english'].apply(lambda x:str.lower(x))"
   ],
   "metadata": {
    "collapsed": false,
    "pycharm": {
     "name": "#%%\n"
    }
   }
  },
  {
   "cell_type": "code",
   "execution_count": 8,
   "outputs": [
    {
     "data": {
      "text/plain": "0             give your application an accessibility workout\n1                          accerciser accessibility explorer\n2             the default plugin layout for the bottom panel\n3                the default plugin layout for the top panel\n4             a list of plugins that are disabled by default\n                                 ...                        \n1561835                  शपथ लेने/प्रतिज्ञान करने वाले सदस्य\n1561836    स्पष्टीकरण.–जहां इस उपधारा के अधीन हानि और लाभ...\n1561837    है। i note that this is a landmark meeting – n...\n1561838    है। in the presentations that they made before...\n1561839    ्त है। issues such as food and water security;...\nName: english, Length: 1555727, dtype: object"
     },
     "execution_count": 8,
     "metadata": {},
     "output_type": "execute_result"
    }
   ],
   "source": [
    "df['english']"
   ],
   "metadata": {
    "collapsed": false,
    "pycharm": {
     "name": "#%%\n"
    }
   }
  },
  {
   "cell_type": "code",
   "execution_count": 9,
   "outputs": [],
   "source": [
    "import string\n",
    "import re\n",
    "def lower_func(x):\n",
    "    return x.strip().lower()\n",
    "def remove_url(x):\n",
    " result = re.sub(r'http\\S+', '', x)\n",
    " return result\n",
    "\n",
    "def remove_hashtag(x):\n",
    " result = re.sub(r'#\\S+', '', x)\n",
    " return result\n",
    "\n",
    "def remove_mentions(x):\n",
    " result = re.sub(r'@\\S+', '', x)\n",
    " return result\n",
    "\n",
    "def remove_patterns(x):\n",
    " result = re.sub(r' _ ', '', x)\n",
    " return result\n",
    "\n",
    "def remove_punc_func(x):\n",
    "    new = ''\n",
    "    for a in x:\n",
    "        if a not in string.punctuation:\n",
    "            new = new + a\n",
    "        else :\n",
    "            new = new +' '\n",
    "    return new\n",
    "\n",
    "\n",
    "## 2.2 Remove special characters\n",
    "def remove_emojis(x):\n",
    "    emoji_pattern = re.compile(\"[\"\n",
    "                               u\"\\U0001F600-\\U0001F64F\"  # emoticons\n",
    "                               u\"\\U0001F300-\\U0001F5FF\"  # symbols & pictographs\n",
    "                               u\"\\U0001F680-\\U0001F6FF\"  # transport & map symbols\n",
    "                               u\"\\U0001F1E0-\\U0001F1FF\"  # flags (iOS)\n",
    "                               u\"\\U00002500-\\U00002BEF\"  # chinese char\n",
    "                               u\"\\U00002702-\\U000027B0\"\n",
    "                               u\"\\U00002702-\\U000027B0\"\n",
    "                               u\"\\U000024C2-\\U0001F251\"\n",
    "                               u\"\\U0001f926-\\U0001f937\"\n",
    "                               u\"\\U00010000-\\U0010ffff\"\n",
    "                               u\"\\u2640-\\u2642\"\n",
    "                               u\"\\u2600-\\u2B55\"\n",
    "                               u\"\\u200d\"\n",
    "                               u\"\\u23cf\"\n",
    "                               u\"\\u23e9\"\n",
    "                               u\"\\u231a\"\n",
    "                               u\"\\ufe0f\"  # dingbats\n",
    "                               u\"\\u3030\"\n",
    "                               \"]+\", flags=re.UNICODE)\n",
    "    result = emoji_pattern.sub(r'', x)\n",
    "    return result\n",
    "\n",
    "def remove_devnagari(x):\n",
    "    pattern = re.compile(\"[\"u\"\\u0900-\\u097F\"\"]\", flags=re.UNICODE)\n",
    "    result = re.search(pattern,x)\n",
    "    if result is None:\n",
    "        return x\n",
    "    else:\n",
    "        return ''\n",
    "\n",
    "def remove_nondevnagari(x):\n",
    "    pattern = re.compile(\"[^\"u\"\\u0900-\\u097F\"\" ]\", flags=re.UNICODE)\n",
    "    result = pattern.sub(r'', x)\n",
    "    return result\n",
    "\n",
    "def remove_digits(x):\n",
    "    pattern = re.compile(\"\\d+\")\n",
    "    result = pattern.sub(r'', x)\n",
    "    return result\n",
    "\n",
    "def remove_spec_char_func(x):\n",
    "    new=''\n",
    "    for a in x:\n",
    "        if (a.isalnum()==True) or (a==' '):\n",
    "            new=new+a\n",
    "        else :\n",
    "            new = new +' '\n",
    "    return new\n",
    "\n",
    "def remove_quotes(x):\n",
    "    x = re.sub(\"'\",'',x)\n",
    "    x = re.sub('\"','',x)\n",
    "    return x\n",
    "\n",
    "def remove_devnagari_digits(x):\n",
    "    pattern = re.compile(\"[\"u\"\\u0966-\\u096F\"\"]+\", flags=re.UNICODE)\n",
    "    result = pattern.sub(r'', x)\n",
    "    return result\n",
    "\n",
    "def remove_english(x):\n",
    "    pattern = re.compile(\"[\"u\"\\u0041-\\u007A\"\"]+\", flags=re.UNICODE)\n",
    "    # pattern = re.compile(\"^[u0900-u097F].*\", flags=re.UNICODE)\n",
    "    result = re.search(pattern,x)\n",
    "    if result is None:\n",
    "        return x\n",
    "    else:\n",
    "        return ''\n",
    "\n",
    "def remove_html(x):\n",
    "    c = re.compile(r'<.*?>')\n",
    "    result=re.sub(c,'',x)\n",
    "    return result"
   ],
   "metadata": {
    "collapsed": false,
    "pycharm": {
     "name": "#%%\n"
    }
   }
  },
  {
   "cell_type": "code",
   "execution_count": 10,
   "outputs": [],
   "source": [
    "def clean_text_english(x):\n",
    "    x= lower_func(x)\n",
    "    x = remove_patterns(x)\n",
    "    x=remove_url(x)\n",
    "    x=remove_hashtag(x)\n",
    "    x=remove_mentions(x)\n",
    "    x=remove_punc_func(x)\n",
    "    x=remove_emojis(x)\n",
    "    x=remove_spec_char_func(x)\n",
    "    x=remove_html(x)\n",
    "    x= remove_devnagari(x)\n",
    "    x=remove_digits(x)\n",
    "    x=remove_quotes(x)\n",
    "    return x"
   ],
   "metadata": {
    "collapsed": false,
    "pycharm": {
     "name": "#%%\n"
    }
   }
  },
  {
   "cell_type": "code",
   "execution_count": 11,
   "outputs": [],
   "source": [
    "def clean_text_hindi(x):\n",
    "    x= lower_func(x)\n",
    "    x = remove_patterns(x)\n",
    "    x=remove_url(x)\n",
    "    x=remove_hashtag(x)\n",
    "    x=remove_mentions(x)\n",
    "    x=remove_punc_func(x)\n",
    "    x=remove_emojis(x)\n",
    "    # x=remove_spec_char_func(x)\n",
    "    x=remove_html(x)\n",
    "    x= remove_english(x)\n",
    "    x=remove_devnagari_digits(x)\n",
    "    x=remove_digits(x)\n",
    "    x=remove_nondevnagari(x)\n",
    "    x=remove_quotes(x)\n",
    "    return x"
   ],
   "metadata": {
    "collapsed": false,
    "pycharm": {
     "name": "#%%\n"
    }
   }
  },
  {
   "cell_type": "code",
   "execution_count": 12,
   "outputs": [],
   "source": [
    "df.reset_index(drop=True,inplace=True)\n",
    "df_new=df.copy()"
   ],
   "metadata": {
    "collapsed": false,
    "pycharm": {
     "name": "#%%\n"
    }
   }
  },
  {
   "cell_type": "code",
   "execution_count": 13,
   "outputs": [],
   "source": [
    "df_new['clean_english']=df_new['english'].apply(lambda x: clean_text_english(x))\n",
    "df_new['clean_hindi']=df_new['hindi'].apply(lambda x: clean_text_hindi(x))"
   ],
   "metadata": {
    "collapsed": false,
    "pycharm": {
     "name": "#%%\n"
    }
   }
  },
  {
   "cell_type": "code",
   "execution_count": 14,
   "outputs": [],
   "source": [
    "df_new['clean_english']=df_new['clean_english'].str.strip()\n",
    "df_new['clean_hindi']=df_new['clean_hindi'].str.strip()\n",
    "df_new=df_new[df_new['clean_english']!='']\n",
    "df_new=df_new[df_new['clean_hindi']!='']\n",
    "df_new.reset_index(drop=True,inplace=True)"
   ],
   "metadata": {
    "collapsed": false,
    "pycharm": {
     "name": "#%%\n"
    }
   }
  },
  {
   "cell_type": "code",
   "execution_count": 15,
   "outputs": [
    {
     "name": "stderr",
     "output_type": "stream",
     "text": [
      "C:\\Users\\Yogesh\\AppData\\Local\\Temp\\ipykernel_6740\\1577185266.py:2: SettingWithCopyWarning: \n",
      "A value is trying to be set on a copy of a slice from a DataFrame\n",
      "\n",
      "See the caveats in the documentation: https://pandas.pydata.org/pandas-docs/stable/user_guide/indexing.html#returning-a-view-versus-a-copy\n",
      "  dataset.drop_duplicates(inplace=True)\n"
     ]
    }
   ],
   "source": [
    "dataset=df_new[['clean_english','clean_hindi']]\n",
    "dataset.drop_duplicates(inplace=True)"
   ],
   "metadata": {
    "collapsed": false,
    "pycharm": {
     "name": "#%%\n"
    }
   }
  },
  {
   "cell_type": "code",
   "execution_count": 16,
   "outputs": [
    {
     "name": "stdout",
     "output_type": "stream",
     "text": [
      "['जुबिन मेहता के संगीत में सीमाओं के आर-पार पहुंचने की क्षमता है।'\n",
      " 'zubin mehta’s music has the power to transcend boundaries.'\n",
      " 'zubin mehta s music has the power to transcend boundaries'\n",
      " 'जुबिन मेहता के संगीत में सीमाओं के आर पार पहुंचने की क्षमता है।']\n"
     ]
    }
   ],
   "source": [
    "print(df_new.iloc[1418634].values)"
   ],
   "metadata": {
    "collapsed": false,
    "pycharm": {
     "name": "#%%\n"
    }
   }
  },
  {
   "cell_type": "code",
   "execution_count": 17,
   "outputs": [],
   "source": [
    "from pickle import dump,load\n",
    "def save_clean_data(sentences, filename):\n",
    "    dump(sentences, open(\"../Dataset/\"+filename, 'wb'))\n",
    "    print('Saved: %s' %filename)\n",
    "\n",
    "def load_clean_data(filename):\n",
    "    return load(open(\"../Dataset/\"+filename,'rb'))"
   ],
   "metadata": {
    "collapsed": false,
    "pycharm": {
     "name": "#%%\n"
    }
   }
  },
  {
   "cell_type": "code",
   "execution_count": 62,
   "outputs": [],
   "source": [
    "from random import shuffle\n",
    "import tensorflow as tf\n",
    "n_sentences = 10000\n",
    "dataset = dataset.iloc[:n_sentences]\n",
    "dataset.sample(frac=1)\n",
    "dataset.reset_index(drop=True,inplace=True)\n"
   ],
   "metadata": {
    "collapsed": false,
    "pycharm": {
     "name": "#%%\n"
    }
   }
  },
  {
   "cell_type": "code",
   "execution_count": 63,
   "outputs": [
    {
     "data": {
      "text/plain": "                                       clean_english  \\\n0     give your application an accessibility workout   \n1                  accerciser accessibility explorer   \n2     the default plugin layout for the bottom panel   \n3        the default plugin layout for the top panel   \n4     a list of plugins that are disabled by default   \n...                                              ...   \n9995                   cannot get connection to view   \n9996                       backend is not opened yet   \n9997                              cannot remove book   \n9998                  failed to run calendar factory   \n9999                  failed to find system calendar   \n\n                                            clean_hindi  \n0       अपने अनुप्रयोग को पहुंचनीयता व्यायाम का लाभ दें  \n1                       एक्सेर्साइसर पहुंचनीयता अन्वेषक  \n2                 निचले पटल के लिए डिफोल्ट प्लग इन खाका  \n3                  ऊपरी पटल के लिए डिफोल्ट प्लग इन खाका  \n4     उन प्लग इनों की सूची जिन्हें डिफोल्ट रूप से नि...  \n...                                                 ...  \n9995                                     सर्वर से संबंध  \n9996                                    पश्चशिरा व्यस्त  \n9997                           पुस्तक हटा नहीं सकता हैः  \n9998                              आंकड़ा इनकोड में विफल  \n9999                              आंकड़ा इनकोड में विफल  \n\n[10000 rows x 2 columns]",
      "text/html": "<div>\n<style scoped>\n    .dataframe tbody tr th:only-of-type {\n        vertical-align: middle;\n    }\n\n    .dataframe tbody tr th {\n        vertical-align: top;\n    }\n\n    .dataframe thead th {\n        text-align: right;\n    }\n</style>\n<table border=\"1\" class=\"dataframe\">\n  <thead>\n    <tr style=\"text-align: right;\">\n      <th></th>\n      <th>clean_english</th>\n      <th>clean_hindi</th>\n    </tr>\n  </thead>\n  <tbody>\n    <tr>\n      <th>0</th>\n      <td>give your application an accessibility workout</td>\n      <td>अपने अनुप्रयोग को पहुंचनीयता व्यायाम का लाभ दें</td>\n    </tr>\n    <tr>\n      <th>1</th>\n      <td>accerciser accessibility explorer</td>\n      <td>एक्सेर्साइसर पहुंचनीयता अन्वेषक</td>\n    </tr>\n    <tr>\n      <th>2</th>\n      <td>the default plugin layout for the bottom panel</td>\n      <td>निचले पटल के लिए डिफोल्ट प्लग इन खाका</td>\n    </tr>\n    <tr>\n      <th>3</th>\n      <td>the default plugin layout for the top panel</td>\n      <td>ऊपरी पटल के लिए डिफोल्ट प्लग इन खाका</td>\n    </tr>\n    <tr>\n      <th>4</th>\n      <td>a list of plugins that are disabled by default</td>\n      <td>उन प्लग इनों की सूची जिन्हें डिफोल्ट रूप से नि...</td>\n    </tr>\n    <tr>\n      <th>...</th>\n      <td>...</td>\n      <td>...</td>\n    </tr>\n    <tr>\n      <th>9995</th>\n      <td>cannot get connection to view</td>\n      <td>सर्वर से संबंध</td>\n    </tr>\n    <tr>\n      <th>9996</th>\n      <td>backend is not opened yet</td>\n      <td>पश्चशिरा व्यस्त</td>\n    </tr>\n    <tr>\n      <th>9997</th>\n      <td>cannot remove book</td>\n      <td>पुस्तक हटा नहीं सकता हैः</td>\n    </tr>\n    <tr>\n      <th>9998</th>\n      <td>failed to run calendar factory</td>\n      <td>आंकड़ा इनकोड में विफल</td>\n    </tr>\n    <tr>\n      <th>9999</th>\n      <td>failed to find system calendar</td>\n      <td>आंकड़ा इनकोड में विफल</td>\n    </tr>\n  </tbody>\n</table>\n<p>10000 rows × 2 columns</p>\n</div>"
     },
     "execution_count": 63,
     "metadata": {},
     "output_type": "execute_result"
    }
   ],
   "source": [
    "dataset"
   ],
   "metadata": {
    "collapsed": false,
    "pycharm": {
     "name": "#%%\n"
    }
   }
  },
  {
   "cell_type": "code",
   "execution_count": 64,
   "outputs": [],
   "source": [
    "train, test = dataset[:8000], dataset[8000:]"
   ],
   "metadata": {
    "collapsed": false,
    "pycharm": {
     "name": "#%%\n"
    }
   }
  },
  {
   "cell_type": "code",
   "execution_count": 65,
   "outputs": [
    {
     "name": "stdout",
     "output_type": "stream",
     "text": [
      "Saved: english-hindi-both.pkl\n",
      "Saved: english-hindi-train.pkl\n",
      "Saved: english-hindi-test.pkl\n"
     ]
    }
   ],
   "source": [
    "save_clean_data(dataset, 'english-hindi-both.pkl')\n",
    "save_clean_data(train, 'english-hindi-train.pkl')\n",
    "save_clean_data(test, 'english-hindi-test.pkl')"
   ],
   "metadata": {
    "collapsed": false,
    "pycharm": {
     "name": "#%%\n"
    }
   }
  },
  {
   "cell_type": "code",
   "execution_count": 67,
   "metadata": {
    "pycharm": {
     "name": "#%%\n"
    }
   },
   "outputs": [],
   "source": [
    "from tensorflow.keras.preprocessing.text import Tokenizer\n",
    "import warnings\n",
    "warnings.filterwarnings('ignore')\n",
    "def create_tokenizer(lines):\n",
    "    tokenizer = Tokenizer()\n",
    "    tokenizer.fit_on_texts(lines)\n",
    "    return tokenizer"
   ]
  },
  {
   "cell_type": "code",
   "execution_count": 68,
   "outputs": [],
   "source": [
    "def max_length(lines):\n",
    "    return max(len(line.split()) for line in lines)"
   ],
   "metadata": {
    "collapsed": false,
    "pycharm": {
     "name": "#%%\n"
    }
   }
  },
  {
   "cell_type": "code",
   "execution_count": 71,
   "outputs": [],
   "source": [
    "from keras_preprocessing.sequence import pad_sequences\n",
    "\n",
    "def encode_sequences(tokenizer, length, lines):\n",
    "    X = tokenizer.texts_to_sequences(lines)\n",
    "    X = pad_sequences(X, maxlen=length, padding = 'post')\n",
    "    return X"
   ],
   "metadata": {
    "collapsed": false,
    "pycharm": {
     "name": "#%%\n"
    }
   }
  },
  {
   "cell_type": "code",
   "execution_count": 73,
   "outputs": [],
   "source": [
    "from numpy import array\n",
    "from keras.utils import to_categorical\n",
    "def encode_output(sequences, vocab_size):\n",
    "    ylist = list()\n",
    "    for sequence in sequences:\n",
    "        encoded = to_categorical(sequence, num_classes = vocab_size)\n",
    "        ylist.append(encoded)\n",
    "    y = array(ylist)\n",
    "    y = y.reshape(sequences.shape[0], sequences.shape[1], vocab_size)\n",
    "    return y"
   ],
   "metadata": {
    "collapsed": false,
    "pycharm": {
     "name": "#%%\n"
    }
   }
  },
  {
   "cell_type": "code",
   "execution_count": 78,
   "outputs": [],
   "source": [
    "from tensorflow.keras.layers import Input, Dense, Embedding, LSTM, Dropout, Bidirectional, GlobalMaxPooling1D,RepeatVector,TimeDistributed\n",
    "from tensorflow.keras.models import Model\n",
    "from tensorflow.keras.optimizers import Adam\n",
    "from tensorflow.keras.models import Sequential\n",
    "from tensorflow.keras.utils import plot_model\n",
    "import pydot\n",
    "\n",
    "def define_model(src_vocab, tar_vocab, src_timesteps, tar_timesteps, n_units):\n",
    "    model = Sequential()\n",
    "    model.add(Embedding(src_vocab, n_units, input_length = src_timesteps, mask_zero = True))\n",
    "    model.add(LSTM(n_units))\n",
    "    model.add(RepeatVector(tar_timesteps))\n",
    "    model.add(LSTM(n_units, return_sequences = True))\n",
    "    model.add(TimeDistributed(Dense(tar_vocab, activation = \"softmax\")))\n",
    "    model.compile(optimizer = 'adam', loss = 'categorical_crossentropy',metrics=['accuracy'])\n",
    "    model.summary()\n",
    "    plot_model(model, to_file='mode.png', show_shapes = True)\n",
    "    return model"
   ],
   "metadata": {
    "collapsed": false,
    "pycharm": {
     "name": "#%%\n"
    }
   }
  },
  {
   "cell_type": "code",
   "execution_count": 66,
   "outputs": [],
   "source": [
    "dataset=load_clean_data('english-hindi-both.pkl')\n",
    "train=load_clean_data('english-hindi-train.pkl')\n",
    "test=load_clean_data('english-hindi-test.pkl')"
   ],
   "metadata": {
    "collapsed": false,
    "pycharm": {
     "name": "#%%\n"
    }
   }
  },
  {
   "cell_type": "code",
   "execution_count": 91,
   "outputs": [
    {
     "name": "stdout",
     "output_type": "stream",
     "text": [
      "English Vocabulary Size: 3529\n",
      "English Max Length: 64\n"
     ]
    }
   ],
   "source": [
    "eng_tokenizer = create_tokenizer(dataset.iloc[:,0])\n",
    "eng_vocab_size = len(eng_tokenizer.word_index) +1\n",
    "eng_length = max_length(dataset.iloc[:,0])\n",
    "print(\"English Vocabulary Size: %d\" %eng_vocab_size)\n",
    "print(\"English Max Length: %d\" %(eng_length))"
   ],
   "metadata": {
    "collapsed": false,
    "pycharm": {
     "name": "#%%\n"
    }
   }
  },
  {
   "cell_type": "code",
   "execution_count": 94,
   "outputs": [
    {
     "data": {
      "text/plain": "OrderedDict([('give', 2),\n             ('your', 157),\n             ('application', 45),\n             ('an', 180),\n             ('accessibility', 9),\n             ('workout', 1),\n             ('accerciser', 6),\n             ('explorer', 2),\n             ('the', 2670),\n             ('default', 76),\n             ('plugin', 95),\n             ('layout', 37),\n             ('for', 432),\n             ('bottom', 20),\n             ('panel', 14),\n             ('top', 33),\n             ('a', 718),\n             ('list', 113),\n             ('of', 903),\n             ('plugins', 35),\n             ('that', 113),\n             ('are', 158),\n             ('disabled', 10),\n             ('by', 96),\n             ('highlight', 28),\n             ('duration', 19),\n             ('box', 20),\n             ('when', 113),\n             ('selecting', 5),\n             ('accessible', 34),\n             ('nodes', 3),\n             ('border', 10),\n             ('color', 74),\n             ('and', 255),\n             ('opacity', 12),\n             ('fill', 25),\n             ('api', 9),\n             ('browser', 22),\n             ('browse', 11),\n             ('various', 3),\n             ('methods', 5),\n             ('current', 164),\n             ('hide', 36),\n             ('private', 9),\n             ('attributes', 5),\n             ('method', 7),\n             ('property', 19),\n             ('value', 48),\n             ('ipython', 1),\n             ('console', 7),\n             ('interactive', 2),\n             ('manipulating', 1),\n             ('currently', 34),\n             ('selected', 155),\n             ('event', 9),\n             ('monitor', 2),\n             ('everything', 1),\n             ('source', 84),\n             ('shows', 3),\n             ('events', 15),\n             ('as', 94),\n             ('they', 9),\n             ('occur', 2),\n             ('from', 179),\n             ('types', 4),\n             ('sources', 5),\n             ('last', 52),\n             ('entry', 15),\n             ('start', 77),\n             ('stop', 28),\n             ('recording', 5),\n             ('clear', 30),\n             ('log', 36),\n             ('no', 210),\n             ('description', 30),\n             ('show', 219),\n             ('perform', 3),\n             ('action', 26),\n             ('id', 15),\n             ('toolkit', 1),\n             ('version', 21),\n             ('collection', 16),\n             ('relative', 5),\n             ('position', 44),\n             ('size', 72),\n             ('widget', 11),\n             ('layer', 4),\n             ('mdi', 3),\n             ('z', 1),\n             ('order', 11),\n             ('alpha', 13),\n             ('absolute', 2),\n             ('component', 6),\n             ('desktop', 22),\n             ('locale', 3),\n             ('document', 92),\n             ('hyperlink', 2),\n             ('hypertext', 3),\n             ('login', 5),\n             ('helper', 1),\n             ('select', 147),\n             ('all', 158),\n             ('streamable', 1),\n             ('content', 35),\n             ('columns', 10),\n             ('rows', 11),\n             ('header', 36),\n             ('extents', 1),\n             ('row', 22),\n             ('column', 34),\n             ('offset', 8),\n             ('include', 16),\n             ('defaults', 5),\n             ('minimum', 15),\n             ('increment', 1),\n             ('maximum', 23),\n             ('interface', 26),\n             ('viewer', 16),\n             ('allows', 10),\n             ('viewing', 2),\n             ('properties', 50),\n             ('not', 453),\n             ('implemented', 9),\n             ('name', 205),\n             ('uri', 15),\n             ('end', 38),\n             ('too', 23),\n             ('many', 9),\n             ('selectable', 3),\n             ('children', 13),\n             ('quick', 8),\n             ('with', 147),\n             ('accessibles', 1),\n             ('quickly', 1),\n             ('inspect', 6),\n             ('focused', 8),\n             ('under', 2),\n             ('mouse', 12),\n             ('native', 3),\n             ('dogtail', 2),\n             ('ldtp', 1),\n             ('script', 13),\n             ('type', 75),\n             ('recorder', 1),\n             ('creates', 4),\n             ('style', 34),\n             ('scripts', 4),\n             ('will', 177),\n             ('be', 333),\n             ('lost', 22),\n             ('confirm', 6),\n             ('schema', 2),\n             ('validate', 1),\n             ('idle', 3),\n             ('at', 65),\n             ('spi', 4),\n             ('validator', 1),\n             ('validates', 1),\n             ('level', 30),\n             ('role', 4),\n             ('saving', 9),\n             ('validating', 1),\n             ('except', 2),\n             ('error', 143),\n             ('warn', 1),\n             ('info', 12),\n             ('debug', 22),\n             ('basic', 10),\n             ('tests', 2),\n             ('fundamental', 1),\n             ('gui', 3),\n             ('more', 29),\n             ('than', 33),\n             ('one', 59),\n             ('could', 122),\n             ('see', 24),\n             ('applications', 12),\n             ('on', 211),\n             ('you', 359),\n             ('must', 17),\n             ('enable', 72),\n             ('to', 1418),\n             ('fix', 1),\n             ('this', 306),\n             ('problem', 3),\n             ('do', 106),\n             ('want', 108),\n             ('it', 122),\n             ('now', 16),\n             ('note', 18),\n             ('changes', 74),\n             ('only', 51),\n             ('take', 17),\n             ('effect', 11),\n             ('after', 33),\n             ('logout', 1),\n             ('refresh', 13),\n             ('node', 5),\n             ('s', 388),\n             ('task', 7),\n             ('key', 38),\n             ('alt', 1),\n             ('ctrl', 1),\n             ('shift', 3),\n             ('preferences', 27),\n             ('global', 8),\n             ('hotkeys', 1),\n             ('highlighting', 4),\n             ('python', 19),\n             ('copyright', 4),\n             ('ibm', 2),\n             ('corporation', 2),\n             ('bsd', 4),\n             ('new', 202),\n             ('license', 17),\n             ('copying', 22),\n             ('notice', 2),\n             ('files', 204),\n             ('details', 29),\n             ('web', 51),\n             ('site', 11),\n             ('bookmark', 38),\n             ('manage', 8),\n             ('bookmarks', 42),\n             ('edit', 63),\n             ('title', 17),\n             ('path', 56),\n             ('add', 141),\n             ('errors', 7),\n             ('view', 77),\n             ('single', 19),\n             ('help', 45),\n             ('full', 20),\n             ('binding', 5),\n             ('child', 23),\n             ('count', 4),\n             ('states', 2),\n             ('relations', 1),\n             ('caption', 7),\n             ('summary', 12),\n             ('table', 23),\n             ('information', 80),\n             ('cell', 4),\n             ('unknown', 42),\n             ('pluginview', 2),\n             ('available', 40),\n             ('pluginviews', 1),\n             ('c', 31),\n             ('horizontal', 27),\n             ('split', 18),\n             ('main', 35),\n             ('window', 163),\n             ('vertical', 26),\n             ('height', 48),\n             ('width', 61),\n             ('in', 474),\n             ('text', 130),\n             ('editable', 4),\n             ('gnome', 36),\n             ('theme', 21),\n             ('documents', 21),\n             ('downloads', 15),\n             ('favorite', 8),\n             ('generic', 7),\n             ('important', 3),\n             ('mail', 54),\n             ('package', 18),\n             ('photos', 21),\n             ('write', 28),\n             ('read', 30),\n             ('urgent', 1),\n             ('aisleriot', 7),\n             ('solitaire', 10),\n             ('play', 54),\n             ('different', 14),\n             ('games', 8),\n             ('file', 461),\n             ('graphics', 2),\n             ('cards', 18),\n             ('whether', 228),\n             ('or', 245),\n             ('toolbar', 29),\n             ('status', 44),\n             ('bar', 30),\n             ('control', 13),\n             ('drag', 15),\n             ('click', 29),\n             ('then', 5),\n             ('destination', 12),\n             ('sound', 70),\n             ('sounds', 4),\n             ('animations', 4),\n             ('animate', 3),\n             ('card', 38),\n             ('moves', 5),\n             ('game', 23),\n             ('use', 160),\n             ('scheme', 6),\n             ('containing', 8),\n             ('statistics', 5),\n             ('played', 17),\n             ('recently', 7),\n             ('change', 31),\n             ('fullscreen', 25),\n             ('about', 33),\n             ('quit', 12),\n             ('does', 35),\n             ('have', 59),\n             ('hint', 10),\n             ('support', 33),\n             ('yet', 14),\n             ('is', 390),\n             ('unable', 75),\n             ('provide', 16),\n             ('accordion', 1),\n             ('agnes', 1),\n             ('athena', 1),\n             ('auld', 1),\n             ('lang', 1),\n             ('syne', 1),\n             ('aunt', 1),\n             ('mary', 1),\n             ('backbone', 1),\n             ('bakers', 2),\n             ('dozen', 1),\n             ('bear', 1),\n             ('river', 1),\n             ('beleaguered', 1),\n             ('castle', 1),\n             ('block', 18),\n             ('ten', 37),\n             ('bristol', 1),\n             ('camelot', 1),\n             ('canfield', 1),\n             ('carpet', 1),\n             ('chessboard', 1),\n             ('clock', 1),\n             ('cover', 5),\n             ('cruel', 1),\n             ('diamond', 1),\n             ('mine', 2),\n             ('doublets', 1),\n             ('eagle', 1),\n             ('wing', 1),\n             ('easthaven', 1),\n             ('eight', 28),\n             ('off', 12),\n             ('elevator', 1),\n             ('eliminator', 3),\n             ('escalator', 1),\n             ('first', 23),\n             ('law', 1),\n             ('fortress', 1),\n             ('fortunes', 1),\n             ('forty', 1),\n             ('thieves', 2),\n             ('fourteen', 1),\n             ('freecell', 4),\n             ('gaps', 2),\n             ('gay', 1),\n             ('gordons', 1),\n             ('giant', 1),\n             ('glenwood', 1),\n             ('gold', 1),\n             ('golf', 1),\n             ('gypsy', 1),\n             ('helsinki', 1),\n             ('hopscotch', 2),\n             ('isabel', 1),\n             ('jamestown', 1),\n             ('jumbo', 1),\n             ('kansas', 1),\n             ('king', 31),\n             ('albert', 1),\n             ('kings', 2),\n             ('audience', 1),\n             ('klondike', 2),\n             ('three', 30),\n             ('decks', 2),\n             ('labyrinth', 1),\n             ('lady', 1),\n             ('jane', 1),\n             ('maze', 1),\n             ('monte', 1),\n             ('carlo', 1),\n             ('napoleons', 1),\n             ('tomb', 1),\n             ('neighbor', 1),\n             ('odessa', 2),\n             ('osmosis', 1),\n             ('peek', 1),\n             ('pileon', 1),\n             ('plait', 1),\n             ('poker', 2),\n             ('quatorze', 1),\n             ('royal', 1),\n             ('east', 2),\n             ('saratoga', 1),\n             ('scorpion', 1),\n             ('scuffle', 1),\n             ('seahaven', 1),\n             ('sir', 1),\n             ('tommy', 1),\n             ('sol', 1),\n             ('spider', 2),\n             ('spiderette', 1),\n             ('straight', 1),\n             ('up', 45),\n             ('streets', 1),\n             ('alleys', 1),\n             ('template', 11),\n             ('across', 4),\n             ('terrace', 1),\n             ('thirteen', 1),\n             ('thumb', 1),\n             ('pouch', 1),\n             ('treize', 1),\n             ('triple', 2),\n             ('peaks', 1),\n             ('union', 1),\n             ('square', 1),\n             ('valentine', 1),\n             ('westhaven', 1),\n             ('whitehead', 1),\n             ('o', 3),\n             ('wisp', 1),\n             ('yield', 1),\n             ('yukon', 1),\n             ('ace', 24),\n             ('clubs', 80),\n             ('two', 42),\n             ('four', 32),\n             ('five', 30),\n             ('six', 30),\n             ('seven', 27),\n             ('nine', 27),\n             ('jack', 28),\n             ('queen', 28),\n             ('diamonds', 80),\n             ('hearts', 80),\n             ('spades', 80),\n             ('face', 2),\n             ('down', 8),\n             ('black', 3),\n             ('joker', 6),\n             ('red', 3),\n             ('maximized', 3),\n             ('wins', 2),\n             ('total', 6),\n             ('percentage', 5),\n             ('best', 3),\n             ('worst', 1),\n             ('n', 2),\n             ('congratulations', 2),\n             ('won', 6),\n             ('there', 53),\n             ('themes', 5),\n             ('provides', 4),\n             ('rule', 6),\n             ('based', 10),\n             ('engine', 6),\n             ('exception', 1),\n             ('occurred', 10),\n             ('please', 134),\n             ('report', 15),\n             ('bug', 19),\n             ('developers', 4),\n             ('restart', 11),\n             ('gameplay', 1),\n             ('close', 52),\n             ('undo', 12),\n             ('move', 110),\n             ('redo', 4),\n             ('undone', 2),\n             ('deal', 13),\n             ('next', 99),\n             ('get', 21),\n             ('install', 30),\n             ('distribution', 7),\n             ('packages', 15),\n             ('repositories', 3),\n             ('statusbar', 12),\n             ('pick', 6),\n             ('drop', 4),\n             ('clicking', 2),\n             ('score', 2),\n             ('time', 55),\n             ('base', 10),\n             ('stock', 6),\n             ('left', 30),\n             ('try', 18),\n             ('rearranging', 1),\n             ('remove', 176),\n             ('deals', 2),\n             ('another', 17),\n             ('round', 1),\n             ('redeals', 3),\n             ('deck', 3),\n             ('something', 9),\n             ('onto', 66),\n             ('empty', 81),\n             ('right', 26),\n             ('hand', 4),\n             ('tableau', 23),\n             ('slot', 34),\n             ('reserve', 11),\n             ('waste', 7),\n             ('back', 16),\n             ('foundation', 17),\n             ('into', 28),\n             ('just', 4),\n             ('because', 12),\n             ('crosswalk', 1),\n             ('looks', 3),\n             ('like', 11),\n             ('board', 1),\n             ('doesn', 18),\n             ('t', 97),\n             ('mean', 1),\n             ('look', 3),\n             ('both', 6),\n             ('ways', 1),\n             ('before', 33),\n             ('cross', 2),\n             ('street', 2),\n             ('better', 7),\n             ('really', 15),\n             ('tourniquets', 1),\n             ('recommended', 2),\n             ('unless', 3),\n             ('direst', 1),\n             ('emergency', 2),\n             ('i', 14),\n             ('sure', 39),\n             ('backrub', 1),\n             ('monitors', 1),\n             ('vitamin', 1),\n             ('d', 17),\n             ('but', 26),\n             ('sunlight', 1),\n             ('if', 174),\n             ('re', 4),\n             ('ever', 2),\n             ('alone', 2),\n             ('woods', 1),\n             ('hug', 1),\n             ('tree', 25),\n             ('fishing', 1),\n             ('wire', 3),\n             ('makes', 1),\n             ('bad', 16),\n             ('dental', 1),\n             ('floss', 1),\n             ('consistency', 3),\n             ('without', 22),\n             ('stapler', 1),\n             ('staple', 1),\n             ('ruler', 2),\n             ('work', 21),\n             ('never', 5),\n             ('blow', 1),\n             ('dog', 1),\n             ('ear', 1),\n             ('redeal', 3),\n             ('searching', 37),\n             ('foundations', 8),\n             ('aces', 1),\n             ('twos', 1),\n             ('threes', 1),\n             ('fours', 1),\n             ('fives', 1),\n             ('sixes', 1),\n             ('sevens', 1),\n             ('eights', 1),\n             ('nines', 1),\n             ('tens', 1),\n             ('jacks', 1),\n             ('queens', 1),\n             ('m', 1),\n             ('return', 4),\n             ('consider', 1),\n             ('moving', 15),\n             ('possible', 14),\n             ('again', 18),\n             ('has', 91),\n             ('solution', 1),\n             ('double', 8),\n             ('any', 42),\n             ('place', 61),\n             ('randomly', 1),\n             ('placed', 5),\n             ('dealing', 1),\n             ('piles', 2),\n             ('around', 4),\n             ('same', 15),\n             ('suit', 3),\n             ('alternating', 2),\n             ('colors', 13),\n             ('pile', 7),\n             ('build', 51),\n             ('unlimited', 1),\n             ('aim', 4),\n             ('suits', 3),\n             ('which', 32),\n             ('fits', 1),\n             ('most', 9),\n             ('naturally', 1),\n             ('autoplay', 1),\n             ('form', 15),\n             ('hands', 1),\n             ('shuffle', 1),\n             ('mode', 107),\n             ('reshuffle', 1),\n             ('until', 13),\n             ('enough', 8),\n             ('temporary', 17),\n             ('allow', 9),\n             ('spots', 1),\n             ('general', 14),\n             ('patience', 1),\n             ('falling', 1),\n             ('stars', 1),\n             ('signora', 1),\n             ('redheads', 1),\n             ('blondes', 1),\n             ('brunettes', 1),\n             ('wood', 1),\n             ('match', 28),\n             ('progressive', 1),\n             ('rounds', 1),\n             ('multiplier', 2),\n             ('scoring', 1),\n             ('popular', 1),\n             ('zebra', 1),\n             ('should', 109),\n             ('received', 9),\n             ('copy', 67),\n             ('gnu', 5),\n             ('public', 9),\n             ('along', 3),\n             ('program', 75),\n             ('accept', 13),\n             ('command', 60),\n             ('line', 62),\n             ('launchable', 2),\n             ('item', 30),\n             ('disable', 49),\n             ('connection', 44),\n             ('session', 31),\n             ('manager', 64),\n             ('specify', 11),\n             ('saved', 18),\n             ('configuration', 26),\n             ('management', 6),\n             ('options', 72),\n             ('itself', 1),\n             ('corner', 2),\n             ('space', 32),\n             ('make', 29),\n             ('called', 1),\n             ('false', 6),\n             ('open', 144),\n             ('appropriate', 7),\n             ('menu', 22),\n             ('shown', 21),\n             ('restore', 7),\n             ('revert', 14),\n             ('menus', 3),\n             ('original', 2),\n             ('settings', 42),\n             ('anjuta', 27),\n             ('ide', 1),\n             ('develop', 2),\n             ('software', 8),\n             ('integrated', 4),\n             ('development', 7),\n             ('environment', 8),\n             ('baltic', 2),\n             ('greek', 2),\n             ('celtic', 2),\n             ('romanian', 2),\n             ('unicode', 3),\n             ('armenian', 2),\n             ('cyrillic', 4),\n             ('russian', 3),\n             ('korean', 2),\n             ('georgian', 2),\n             ('cannot', 164),\n             ('execute', 14),\n             ('execvp', 1),\n             ('failed', 91),\n             ('shell', 10),\n             ('load', 34),\n             ('remember', 13),\n             ('selection', 44),\n             ('profiles', 3),\n             ('activated', 11),\n             ('loaded', 30),\n             ('profile', 19),\n             ('permission', 12),\n             ('reset', 11),\n             ('category', 7),\n             ('dialog', 19),\n             ('items', 14),\n             ('save', 111),\n             ('unsaved', 4),\n             ('closing', 11),\n             ('visible', 12),\n             ('shortcut', 5),\n             ('create', 92),\n             ('complete', 26),\n             ('system', 40),\n             ('found', 37),\n             ('scratchbox', 2),\n             ('arguments', 13),\n             ('root', 18),\n             ('run', 37),\n             ('terminal', 15),\n             ('entering', 4),\n             ('directory', 102),\n             ('leaving', 3),\n             ('warning', 10),\n             ('completed', 25),\n             ('unsuccessful', 2),\n             ('successful', 4),\n             ('configure', 17),\n             ('parameters', 22),\n             ('project', 276),\n             ('whole', 12),\n             ('clean', 14),\n             ('autogenerate', 1),\n             ('tarball', 2),\n             ('module', 40),\n             ('associated', 10),\n             ('compile', 13),\n             ('complie', 1),\n             ('commands', 8),\n             ('popup', 35),\n             ('autotools', 4),\n             ('opened', 21),\n             ('exists', 21),\n             ('executable', 11),\n             ('date', 37),\n             ('update', 30),\n             ('graph', 5),\n             ('class', 38),\n             ('author', 14),\n             ('email', 22),\n             ('inheritance', 5),\n             ('function', 28),\n             ('prefix', 6),\n             ('gobject', 2),\n             ('inline', 3),\n             ('declaration', 8),\n             ('implementation', 6),\n             ('signals', 7),\n             ('autogen', 7),\n             ('definition', 7),\n             ('repository', 20),\n             ('cvs', 29),\n             ('diff', 23),\n             ('import', 40),\n             ('choose', 52),\n             ('commit', 30),\n             ('directories', 27),\n             ('delete', 60),\n             ('message', 209),\n             ('revision', 27),\n             ('tag', 31),\n             ('vendor', 4),\n             ('none', 11),\n             ('field', 11),\n             ('operations', 45),\n             ('debugger', 38),\n             ('breakpoint', 32),\n             ('breakpoints', 14),\n             ('watch', 14),\n             ('target', 54),\n             ('display', 87),\n             ('processtree', 1),\n             ('enableall', 2),\n             ('kernel', 8),\n             ('memory', 12),\n             ('interrupt', 3),\n             ('set', 125),\n             ('signal', 10),\n             ('yes', 3),\n             ('attach', 15),\n             ('condition', 7),\n             ('paths', 10),\n             ('enb', 1),\n             ('address', 93),\n             ('times', 3),\n             ('disp', 1),\n             ('toggle', 30),\n             ('location', 60),\n             ('jump', 8),\n             ('deactivate', 2),\n             ('disassembly', 2),\n             ('lines', 7),\n             ('started', 5),\n             ('stopped', 5),\n             ('unloaded', 3),\n             ('process', 22),\n             ('running', 22),\n             ('say', 2),\n             ('goodbye', 2),\n             ('infotarget', 1),\n             ('infoprogram', 2),\n             ('execution', 11),\n             ('contents', 28),\n             ('struct', 4),\n             ('user', 99),\n             ('shared', 18),\n             ('libraries', 13),\n             ('mappings', 2),\n             ('continue', 22),\n             ('step', 11),\n             ('over', 15),\n             ('out', 37),\n             ('cursor', 22),\n             ('infoglobal', 1),\n             ('variables', 11),\n             ('infocurrent', 2),\n             ('frame', 21),\n             ('pause', 10),\n             ('pauses', 2),\n             ('sysm', 1),\n             ('modify', 16),\n             ('send', 49),\n             ('numbers', 11),\n             ('markers', 2),\n             ('stack', 5),\n             ('thread', 13),\n             ('evaluate', 2),\n             ('watches', 2),\n             ('search', 97),\n             ('goto', 9),\n             ('previous', 41),\n             ('go', 57),\n             ('page', 102),\n             ('pages', 35),\n             ('context', 9),\n             ('word', 21),\n             ('editor', 72),\n             ('books', 4),\n             ('reload', 21),\n             ('indent', 12),\n             ('autoformat', 1),\n             ('blank', 7),\n             ('breaking', 1),\n             ('long', 17),\n             ('declarations', 3),\n             ('indentation', 34),\n             ('statements', 3),\n             ('brace', 5),\n             ('continuation', 1),\n             ('parenth', 1),\n             ('combo', 2),\n             ('selector', 2),\n             ('auto', 26),\n             ('format', 33),\n             ('autosave', 5),\n             ('setting', 10),\n             ('length', 21),\n             ('parameter', 6),\n             ('preview', 38),\n             ('sorted', 5),\n             ('alphabetical', 2),\n             ('opening', 9),\n             ('cast', 1),\n             ('number', 69),\n             ('saveas', 2),\n             ('swap', 3),\n             ('recentfiles', 2),\n             ('print', 50),\n             ('uppercase', 4),\n             ('lowercase', 4),\n             ('selectall', 2),\n             ('tobrace', 1),\n             ('matching', 6),\n             ('braces', 4),\n             ('selectcode', 2),\n             ('code', 38),\n             ('comment', 17),\n             ('uncomment', 6),\n             ('stream', 15),\n             ('particular', 2),\n             ('previoushistory', 2),\n             ('history', 50),\n             ('cut', 9),\n             ('clipboard', 11),\n             ('paste', 10),\n             ('autocomplete', 3),\n             ('margin', 18),\n             ('marker', 4),\n             ('fold', 9),\n             ('guides', 5),\n             ('white', 3),\n             ('characters', 14),\n             ('zoom', 34),\n             ('folds', 8),\n             ('transformation', 6),\n             ('commenting', 2),\n             ('navigations', 3),\n             ('syntax', 10),\n             ('styles', 2),\n             ('formating', 2),\n             ('ovr', 2),\n             ('col', 2),\n             ('enter', 49),\n             ('press', 12),\n             ('folding', 5),\n             ('other', 41),\n             ('every', 2),\n             ('bold', 1),\n             ('calltip', 1),\n             ('background', 21),\n             ('caret', 5),\n             ('collapse', 3),\n             ('fonts', 22),\n             ('colour', 3),\n             ('compact', 5),\n             ('check', 61),\n             ('wrap', 11),\n             ('comments', 2),\n             ('italic', 2),\n             ('pixels', 13),\n             ('maintain', 1),\n             ('past', 2),\n             ('monochrome', 2),\n             ('pressing', 6),\n             ('tab', 28),\n             ('inserts', 1),\n             ('foreground', 2),\n             ('spaces', 9),\n             ('tabs', 25),\n             ('whitespaces', 1),\n             ('buffer', 21),\n             ('printing', 15),\n             ('disk', 16),\n             ('recent', 11),\n             ('successfully', 28),\n             ('prev', 3),\n             ('mesg', 2),\n             ('tags', 16),\n             ('find', 66),\n             ('usage', 13),\n             ('docked', 1),\n             ('projects', 8),\n             ('java', 11),\n             ('pascal', 2),\n             ('php', 2),\n             ('perl', 4),\n             ('makefiles', 1),\n             ('components', 3),\n             ('openrecent', 1),\n             ('filter', 35),\n             ('hidden', 15),\n             ('ignore', 13),\n             ('actions', 15),\n             ('loading', 32),\n             ('core', 2),\n             ('getting', 7),\n             ('ready', 5),\n             ('debugging', 15),\n             ('specified', 49),\n             ('hit', 3),\n             ('attached', 9),\n             ('still', 20),\n             ('attaching', 3),\n             ('terminated', 5),\n             ('detached', 2),\n             ('detaching', 2),\n             ('interrupting', 2),\n             ('whilst', 2),\n             ('signaling', 1),\n             ('glade', 18),\n             ('designer', 5),\n             ('need', 7),\n             ('can', 74),\n             ('categories', 4),\n             ('todo', 5),\n             ('year', 1),\n             ('hour', 1),\n             ('minute', 2),\n             ('orientation', 7),\n             ('personal', 18),\n             ('business', 4),\n             ('unfiled', 1),\n             ('gtodo', 1),\n             ('client', 19),\n             ('data', 84),\n             ('filename', 10),\n             ('supplied', 5),\n             ('tasks', 6),\n             ('purge', 2),\n             ('notification', 27),\n             ('macro', 9),\n             ('macros', 5),\n             ...])"
     },
     "execution_count": 94,
     "metadata": {},
     "output_type": "execute_result"
    }
   ],
   "source": [
    "eng_tokenizer.word_counts"
   ],
   "metadata": {
    "collapsed": false,
    "pycharm": {
     "name": "#%%\n"
    }
   }
  },
  {
   "cell_type": "code",
   "execution_count": 95,
   "outputs": [
    {
     "name": "stdout",
     "output_type": "stream",
     "text": [
      "Hindi Vocabulary Size: 4319\n",
      "Hindi Max Length: 81\n"
     ]
    }
   ],
   "source": [
    "hin_tokenizer = create_tokenizer(dataset.iloc[:,1])\n",
    "hin_vocab_size = len(hin_tokenizer.word_index) +1\n",
    "hin_length = max_length(dataset.iloc[:,1])\n",
    "print(\"Hindi Vocabulary Size: %d\" %hin_vocab_size)\n",
    "print(\"Hindi Max Length: %d\" %(hin_length))"
   ],
   "metadata": {
    "collapsed": false,
    "pycharm": {
     "name": "#%%\n"
    }
   }
  },
  {
   "cell_type": "code",
   "execution_count": 96,
   "outputs": [
    {
     "data": {
      "text/plain": "OrderedDict([('अपने', 25),\n             ('अनुप्रयोग', 45),\n             ('को', 1095),\n             ('पहुंचनीयता', 6),\n             ('व्यायाम', 1),\n             ('का', 778),\n             ('लाभ', 1),\n             ('दें', 60),\n             ('एक्सेर्साइसर', 5),\n             ('अन्वेषक', 2),\n             ('निचले', 3),\n             ('पटल', 13),\n             ('के', 1368),\n             ('लिए', 638),\n             ('डिफोल्ट', 7),\n             ('प्लग', 13),\n             ('इन', 26),\n             ('खाका', 22),\n             ('ऊपरी', 8),\n             ('उन', 9),\n             ('इनों', 1),\n             ('की', 539),\n             ('सूची', 128),\n             ('जिन्हें', 1),\n             ('रूप', 78),\n             ('से', 618),\n             ('निष्क्रिय', 28),\n             ('किया', 200),\n             ('गया', 168),\n             ('है', 1197),\n             ('अवधि', 21),\n             ('हाइलाइट', 17),\n             ('रकें', 1),\n             ('पहुंचनीय', 3),\n             ('आसंधि', 2),\n             ('नोड', 7),\n             ('चुनते', 10),\n             ('समय', 75),\n             ('बक्से', 5),\n             ('सीमांत', 4),\n             ('बोर्डर', 1),\n             ('रंग', 88),\n             ('करें', 990),\n             ('किए', 37),\n             ('गए', 44),\n             ('और', 204),\n             ('अपारदर्शिता।', 1),\n             ('भराई', 4),\n             ('पारदर्शिता।', 1),\n             ('एपीआई', 4),\n             ('विचरक', 1),\n             ('इस', 224),\n             ('जिसे', 17),\n             ('प्राप्त', 40),\n             ('हो', 123),\n             ('उसकी', 1),\n             ('विभिन्न', 4),\n             ('विधियों', 1),\n             ('मेथड', 1),\n             ('में', 959),\n             ('विचरण', 1),\n             ('निजी', 16),\n             ('गुणों', 2),\n             ('छिपाएं', 1),\n             ('विधि', 46),\n             ('गुणधर्म', 3),\n             ('मान', 45),\n             ('आईपाइथन', 1),\n             ('कन्सोल', 2),\n             ('चुने', 20),\n             ('एक्सेसेबेल', 2),\n             ('काम', 14),\n             ('लेने', 27),\n             ('अंतर्क्रियात्मक', 2),\n             ('घटना', 8),\n             ('मानिटर', 1),\n             ('सभी', 143),\n             ('स्रोत', 36),\n             ('प्रकारों', 1),\n             ('स्रोतों', 1),\n             ('घटनाएं', 1),\n             ('जैसे', 25),\n             ('घटित', 1),\n             ('होती', 4),\n             ('हैं', 239),\n             ('उन्हें', 12),\n             ('दर्शाता', 2),\n             ('अंतिम', 34),\n             ('प्रविष्ट', 25),\n             ('करो', 31),\n             ('रेकोर्डिंग', 1),\n             ('शुरू', 25),\n             ('रोको', 1),\n             ('रोजनामचा', 1),\n             ('मिटाओ', 2),\n             ('कोई', 255),\n             ('विवरण', 34),\n             ('नहीं', 933),\n             ('वर्णन', 21),\n             ('दिखाएं', 15),\n             ('कार्रवाई', 6),\n             ('संपन्न', 6),\n             ('आईडी', 10),\n             ('औजार', 10),\n             ('बक्सा', 2),\n             ('संस्करण', 21),\n             ('संग्रह', 17),\n             ('सापेक्ष', 1),\n             ('स्थिति', 105),\n             ('आकार', 81),\n             ('विडजेट', 2),\n             ('स्तर', 30),\n             ('एमडीआई', 3),\n             ('जेड', 4),\n             ('क्रम', 4),\n             ('अल्फा', 13),\n             ('निरपेक्ष', 1),\n             ('घटक', 10),\n             ('डेस्कटोप', 3),\n             ('स्थान', 85),\n             ('विशिष्टः', 1),\n             ('प्रलेख', 1),\n             ('हाइपरकड़ी', 1),\n             ('हाइपरपाठ', 1),\n             ('विशिष्ट', 3),\n             ('प्रवेश', 1),\n             ('सहायक', 17),\n             ('चुनें', 122),\n             ('प्रवाहित', 1),\n             ('करनेयोग्य', 1),\n             ('विषयवस्तु', 11),\n             ('स्तंभ', 23),\n             ('चुनी', 15),\n             ('गई', 48),\n             ('पंक्तियां', 7),\n             ('शीर्षकः', 5),\n             ('विस्तारः', 1),\n             ('पंक्ति', 61),\n             ('ओफसेट', 1),\n             ('डिफोल्टों', 1),\n             ('शामिल', 26),\n             ('मौजूदा', 61),\n             ('न्यूनतम', 23),\n             ('वृद्धि', 3),\n             ('अधिकतम', 30),\n             ('अंतराफलक', 2),\n             ('दर्शक', 2),\n             ('देखने', 21),\n             ('देता', 23),\n             ('क्रियान्वित', 5),\n             ('हुआ', 35),\n             ('नाम', 227),\n             ('यूआरआई', 10),\n             ('प्रारंभ', 43),\n             ('अंत', 27),\n             ('बहुत', 15),\n             ('अधिक', 28),\n             ('चयनीय', 1),\n             ('शिशु', 3),\n             ('तेज', 9),\n             ('चुनाव', 1),\n             ('जिसमें', 17),\n             ('एक्सेसेबेलों', 1),\n             ('तेजी', 1),\n             ('चुनने', 6),\n             ('कई', 15),\n             ('विधियां', 1),\n             ('बार', 42),\n             ('फोकस', 7),\n             ('एक्सेसेबल', 2),\n             ('जांचें', 8),\n             ('माउस', 12),\n             ('अधीन', 1),\n             ('जो', 93),\n             ('उसे', 6),\n             ('वतनी', 1),\n             ('श्वानपुच्छ', 2),\n             ('एलडीटीपी', 1),\n             ('लिपि', 3),\n             ('प्रकार', 59),\n             ('रेकोर्डर', 1),\n             ('शैली', 11),\n             ('लिपियां', 1),\n             ('निर्मित', 5),\n             ('करता', 62),\n             ('वर्तमान', 74),\n             ('स्क्रिप्ट', 12),\n             ('खो', 4),\n             ('जाएगी।', 1),\n             ('मिटाने', 7),\n             ('पुष्टि', 5),\n             ('स्कीमाः', 1),\n             ('सत्यापन', 37),\n             ('खाली', 89),\n             ('एटी', 4),\n             ('एसपीआई', 4),\n             ('सत्यापक', 1),\n             ('भूमिका', 6),\n             ('सहेज', 30),\n             ('रहे', 60),\n             ('कर', 245),\n             ('अपवाद', 2),\n             ('त्रुटि', 124),\n             ('चेतावनी', 10),\n             ('सूचना', 75),\n             ('दोषमुक्त', 1),\n             ('मूल', 4),\n             ('मूलभूत', 8),\n             ('जीयूआई', 1),\n             ('परीक्षण', 1),\n             ('एक', 323),\n             ('एक्सेरसाइसर', 1),\n             ('आपके', 53),\n             ('मौजूद', 27),\n             ('देख', 3),\n             ('पाया।', 1),\n             ('समस्या', 2),\n             ('समाधान', 1),\n             ('आपको', 23),\n             ('सक्रिय', 92),\n             ('करना', 110),\n             ('होगा।', 1),\n             ('क्या', 288),\n             ('आप', 222),\n             ('इसे', 43),\n             ('चाहते', 84),\n             ('टिप्पणीः', 6),\n             ('परिवर्तन', 45),\n             ('सत्रांत', 1),\n             ('लोगआउट', 1),\n             ('बाद', 27),\n             ('ही', 41),\n             ('प्रभाव', 24),\n             ('आएंगे।', 1),\n             ('ताजा', 8),\n             ('आसंधियों', 1),\n             ('शिशुओं', 1),\n             ('कार्य', 32),\n             ('कुंजी', 25),\n             ('आल्ट', 1),\n             ('कंट्रोल', 1),\n             ('शिफ्ट', 3),\n             ('निचला', 1),\n             ('पसंद', 47),\n             ('प्लगइन्स', 3),\n             ('सार्वत्रिक', 1),\n             ('फटाफट', 1),\n             ('कुंजियां', 1),\n             ('हाइलाइटन', 1),\n             ('अवधिः', 1),\n             ('रंगः', 7),\n             ('पाइथन', 1),\n             ('सर्वाधिकार', 4),\n             ('आईबीएम', 2),\n             ('निगम', 2),\n             ('बीएसडी', 4),\n             ('नया', 124),\n             ('लाइसेन्स', 1),\n             ('देखिए', 2),\n             ('प्रतिलिपीकरण', 1),\n             ('फाइलें', 14),\n             ('जाल', 1),\n             ('स्थल', 1),\n             ('एक्सेसेबलों', 1),\n             ('पुस्तक', 12),\n             ('चिह्नित', 3),\n             ('चिह्नों', 2),\n             ('प्रबंधित', 5),\n             ('करें।', 1),\n             ('संपादित', 28),\n             ('शीर्षक', 24),\n             ('पथ', 38),\n             ('चिह्न', 3),\n             ('जोड़ें', 127),\n             ('अनुप्रयोगः', 2),\n             ('पथः', 6),\n             ('त्रुटियां', 2),\n             ('दृश्य', 28),\n             ('एकल', 17),\n             ('मदद', 24),\n             ('पूरा', 16),\n             ('बंधन', 1),\n             ('विषय', 27),\n             ('नीचे', 33),\n             ('पैनल', 2),\n             ('लेआउट', 6),\n             ('बाल', 4),\n             ('गणना', 7),\n             ('राज्य', 2),\n             ('संबंध', 5),\n             ('सारांशः', 1),\n             ('सारणी', 27),\n             ('कोशिका', 1),\n             ('अंतः', 2),\n             ('अज्ञात', 36),\n             ('क्षैतिज', 28),\n             ('विभाजन', 3),\n             ('मुख्य', 32),\n             ('विंडो', 172),\n             ('अनुलंब', 7),\n             ('विभाजित', 4),\n             ('तयशुदा', 27),\n             ('ऊंचाई', 20),\n             ('चौड़ाई', 65),\n             ('प्लगिन', 38),\n             ('देखें', 26),\n             ('ऊँचाई', 33),\n             ('पाठ', 93),\n             ('प्रारंभः', 1),\n             ('संशोधनीय', 2),\n             ('गनोम', 29),\n             ('डिफ़ॉल्ट', 20),\n             ('प्रसंग', 19),\n             ('डेस्कटॉप', 19),\n             ('दस्तावेज़', 54),\n             ('डाउनलोड', 16),\n             ('पसंदीदा', 30),\n             ('ज़ेनेरिक', 2),\n             ('महत्वपूर्ण', 2),\n             ('डाक', 29),\n             ('पैकेज', 15),\n             ('फोटो', 11),\n             ('लिखें', 25),\n             ('पढ़ा', 3),\n             ('अत्यावश्यक', 1),\n             ('वेब', 57),\n             ('एस्लेरियॉट', 4),\n             ('सॉलिटेयर', 11),\n             ('भिन्न', 11),\n             ('खेल', 31),\n             ('खेलें', 3),\n             ('फाइल', 229),\n             ('पत्तों', 8),\n             ('हेतु', 55),\n             ('ग्राफ़िक्स', 1),\n             ('सहित', 2),\n             ('फ़ाइल', 353),\n             ('उपकरण', 38),\n             ('पट्टी', 60),\n             ('दिखाएँ', 146),\n             ('या', 231),\n             ('नियंत्रण', 16),\n             ('चयन', 62),\n             ('कि', 88),\n             ('कार्ड', 12),\n             ('खींचना', 3),\n             ('गंतव्य', 7),\n             ('बजाय', 6),\n             ('श्रोत', 23),\n             ('पर', 375),\n             ('क्लिक', 37),\n             ('ध्वनि', 80),\n             ('घटनाओं', 9),\n             ('बजाएँ', 19),\n             ('एनीमेशन', 3),\n             ('चालों', 1),\n             ('उपयोग', 112),\n             ('खेला', 1),\n             ('जाने', 56),\n             ('वाला', 16),\n             ('पुनः', 16),\n             ('हाल', 9),\n             ('खेले', 2),\n             ('बदलें', 61),\n             ('सांख्यिकी', 2),\n             ('पूर्णस्क्रीन', 8),\n             ('बारे', 16),\n             ('बाहर', 58),\n             ('अब', 13),\n             ('तक', 34),\n             ('संकेत', 15),\n             ('समर्थन', 31),\n             ('उपलब्ध', 39),\n             ('यह', 183),\n             ('कराने', 1),\n             ('असमर्थ', 62),\n             ('एकार्डियन', 1),\n             ('एग्नेस', 1),\n             ('एथेना', 1),\n             ('अल्ड', 1),\n             ('लेंग', 1),\n             ('स्याने', 1),\n             ('आंट', 1),\n             ('मेरी', 2),\n             ('रीढ़', 1),\n             ('बेकर्स', 2),\n             ('दर्जन', 1),\n             ('बीयर', 1),\n             ('रिवर', 1),\n             ('सताने', 1),\n             ('किला', 2),\n             ('ब्लाक', 2),\n             ('दस', 2),\n             ('ब्रिस्टल', 1),\n             ('केमेलॉट', 1),\n             ('केनफील्ड', 1),\n             ('दरी', 1),\n             ('शतरंज', 1),\n             ('घड़ी', 1),\n             ('आवरण', 6),\n             ('कठोर', 1),\n             ('हीरा', 1),\n             ('खदान', 2),\n             ('जोड़ा', 6),\n             ('बाज', 1),\n             ('पंख', 1),\n             ('ईस्टहैवन', 1),\n             ('आठ', 1),\n             ('बन्द', 20),\n             ('एलीवेटर', 2),\n             ('निरसक', 1),\n             ('एस्केलेटर', 1),\n             ('पहला', 6),\n             ('नियम', 7),\n             ('सौभाग्य', 1),\n             ('चालीस', 1),\n             ('चोर', 2),\n             ('चौदह', 1),\n             ('फ्रीसेल', 4),\n             ('गैप', 1),\n             ('गे', 1),\n             ('गोरडोन्स', 1),\n             ('जायंट', 1),\n             ('ग्लेनवुड', 1),\n             ('सोना', 1),\n             ('गोल्फ', 1),\n             ('जिप्सी', 1),\n             ('हेलसिंकी', 1),\n             ('हॉपस्कॉच', 1),\n             ('इसाबेल', 1),\n             ('जेम्सटाउन', 1),\n             ('भारी', 3),\n             ('भरकम', 3),\n             ('कैनसास', 1),\n             ('राजा', 2),\n             ('अलबर्ट', 1),\n             ('किंग', 1),\n             ('ऑडियंस', 1),\n             ('क्लॉन्डिके', 2),\n             ('तीन', 4),\n             ('डेक', 5),\n             ('भूलभुलैया', 1),\n             ('श्रीमती', 1),\n             ('ज़ेन', 1),\n             ('भूल', 1),\n             ('भुलैया', 1),\n             ('मोन्ते', 1),\n             ('कार्लो', 1),\n             ('नेपोलियन', 1),\n             ('मकबरा', 1),\n             ('पड़ोसी', 2),\n             ('ओडेसा', 2),\n             ('ऑस्मोसिस', 1),\n             ('झांकें', 1),\n             ('पाइलेअन', 1),\n             ('लपेट', 1),\n             ('पोकर', 2),\n             ('क्वातोर्जे', 1),\n             ('रॉयल', 1),\n             ('ईस्ट', 1),\n             ('साराटोगा', 1),\n             ('वृश्चिक', 1),\n             ('हाथापाई', 1),\n             ('सीहैवन', 1),\n             ('श्रीमान्', 1),\n             ('टॉमी', 1),\n             ('सोल', 1),\n             ('मकड़ी', 2),\n             ('स्पाइडर', 1),\n             ('मादा', 1),\n             ('सीधा', 1),\n             ('ऊपर', 31),\n             ('गलियां', 1),\n             ('चौबारा', 1),\n             ('टेम्पलेट', 2),\n             ('आरपार', 1),\n             ('टेरेस', 1),\n             ('तेरह', 1),\n             ('अंगूठा', 1),\n             ('पॉकेट', 1),\n             ('ट्रेज', 1),\n             ('तिहरी', 1),\n             ('चोटी', 1),\n             ('संघीय', 1),\n             ('चौराहा', 1),\n             ('वेलेंटाइन', 1),\n             ('वेस्ट', 2),\n             ('हैवन', 1),\n             ('सफेदसिर', 1),\n             ('व्हाइटहेड', 1),\n             ('विल', 1),\n             ('औ', 1),\n             ('द', 1),\n             ('विस्प', 1),\n             ('उपज', 1),\n             ('युकान', 1),\n             ('चिड़ी', 81),\n             ('इक्का', 21),\n             ('दुक्की', 7),\n             ('तिक्की', 22),\n             ('चौवा', 5),\n             ('पंजा', 23),\n             ('छक्का', 24),\n             ('सत्ता', 25),\n             ('अट्ठा', 23),\n             ('नहला', 24),\n             ('दहला', 65),\n             ('गुलाम', 20),\n             ('बेगम', 21),\n             ('बादशाह', 44),\n             ('ईंट', 80),\n             ('दुक्का', 16),\n             ('चव्वा', 17),\n             ('लाल', 83),\n             ('पान', 80),\n             ('हुकुम', 80),\n             ('पत्ता', 17),\n             ('काला', 3),\n             ('जोकर', 9),\n             ('सबसे', 4),\n             ('बड़े', 1),\n             ('होना', 16),\n             ('चाहिए', 109),\n             ('पूर्ण', 50),\n             ('स्क्रीन', 43),\n             ('खेलने', 3),\n             ('लिये', 43),\n             ('जीताः', 1),\n             ('कुलः', 1),\n             ('प्रतिशतः', 1),\n             ('जीता', 1),\n             ('उत्तमः', 1),\n             ('सब', 4),\n             ('बुराः', 1),\n             ('लागू', 36),\n             ('बधाई', 2),\n             ('जीत', 1),\n             ('चाल', 8),\n             ('बाकी', 2),\n             ('खेलः', 2),\n             ('ताश', 16),\n             ('थीमः', 1),\n             ('एसलिरियोट', 2),\n             ('आधारित', 8),\n             ('इंजन', 6),\n             ('अनुमति', 25),\n             ('ग्नोम', 5),\n             ('वेबसाइट', 8),\n             ('योजना', 4),\n             ('उत्पन्न', 9),\n             ('डेवलेपर', 7),\n             ('बग', 17),\n             ('रिपोर्ट', 20),\n             ('पुनःप्रारंभ', 1),\n             ('दिखायें', 18),\n             ('पिछली', 13),\n             ('पूर्ववत', 2),\n             ('अगला', 28),\n             ('कार्ड्स', 1),\n             ('डील', 3),\n             ('अगली', 9),\n             ('एस्लेरियाट', 1),\n             ('सहायता', 13),\n             ('इंस्टाल', 1),\n             ('वितरण', 6),\n             ('रिपोसिटरीज़', 1),\n             ('नए', 30),\n             ('गेम', 2),\n             ('संस्थापित', 24),\n             ('छुपाएँ', 25),\n             ('करके', 4),\n             ('ले', 45),\n             ('छोड़ें', 18),\n             ('अंकः', 1),\n             ('समयः', 3),\n             ('आधार', 29),\n             ('पत्ताः', 5),\n             ('रानी', 3),\n             ('बचा', 3),\n             ('मालः', 1),\n             ('बांटें', 8),\n             ('फिर', 83),\n             ('जमाने', 2),\n             ('कोशिश', 19),\n             ('हटाएँ', 86),\n             ('पत्ते', 12),\n             ('दौर', 1),\n             ('चलें', 3),\n             ('बांटना', 3),\n             ('बाकीः', 2),\n             ('दाएं', 1),\n             ('बाजू', 6),\n             ('कुछ', 37),\n             ('जाएँ', 94),\n             ('अतिरिक्त', 48),\n             ('बेकार', 8),\n             ('भण्डार', 2),\n             ('वापस', 17),\n             ('किसी', 79),\n             ('वस्तु', 39),\n             ('तस्वीर', 78),\n             ('खाँचे', 3),\n             ('सिर्फ', 17),\n             ('इसलिए', 3),\n             ('हापस्काच', 1),\n             ('बोर्ड', 1),\n             ('पारपथ', 1),\n             ('दिखता', 4),\n             ('इसका', 6),\n             ('मतलब', 6),\n             ('वह', 8),\n             ('यही', 1),\n             ('जब', 72),\n             ('सड़क', 1),\n             ('पार', 3),\n             ('तो', 30),\n             ('दोनों', 7),\n             ('तरफ', 2),\n             ('आपने', 18),\n             ('पढ़', 2),\n             ('ली', 5),\n             ('बढ़िया', 3),\n             ('सच', 1),\n             ('अत्यधिक', 1),\n             ('आपात्', 1),\n             ('न', 22),\n             ('रक्त', 1),\n             ('बन्ध', 1),\n             ('सिफारिश', 1),\n             ('जाती', 13),\n             ('लगता', 2),\n             ('मुझे', 5),\n             ('तुरंत', 3),\n             ('अपनी', 11),\n             ('पीठ', 1),\n             ('खुजानी', 1),\n             ('पड़ेगी', 1),\n             ('सूर्य', 1),\n             ('किरणें', 1),\n             ('विटामिन', 1),\n             ('डी', 7),\n             ('देती', 1),\n             ('कम्प्यूटरों', 1),\n             ('मॉनीटर्स', 1),\n             ('यदि', 115),\n             ('कभी', 7),\n             ('जंगल', 1),\n             ('अकेले', 1),\n             ('गुम', 9),\n             ('पेड़', 4),\n             ('आगोश', 1),\n             ('मछली', 1),\n             ('पकड़ने', 1),\n             ('तांत', 1),\n             ('दांत', 1),\n             ('साफ', 33),\n             ('मत', 8),\n             ('करिए', 1),\n             ('संगतता', 2),\n             ('व्यवसायी', 1),\n             ('हाट', 1),\n             ('शासक', 1),\n             ('भी', 43),\n             ('करते', 21),\n             ('कुत्ते', 1),\n             ('कान', 1),\n             ('सीटी', 1),\n             ('ढूंढ', 16),\n             ('खाँचा', 30),\n             ('अभी', 35),\n             ('बची', 1),\n             ('जगह', 13),\n             ('छह', 2),\n             ('मूलाधार', 3),\n             ('पाँच', 3),\n             ('चार', 4),\n             ('मिटाएँ', 62),\n             ('मैं', 9),\n             ('सुनिश्चित', 9),\n             ('हूं', 1),\n             ('ढेर', 9),\n             ('विचार', 2),\n             ('स्टाक', 1),\n             ('निकालें', 5),\n             ('संभव', 11),\n             ('लें', 39),\n             ('पास', 30),\n             ('हल', 5),\n             ('बांटने', 2),\n             ('दो', 23),\n             ('बगल', 48),\n             ('रखें', 83),\n             ('वादशाह', 4),\n             ('रिडील', 1),\n             ('बेतरतीब', 2),\n             ('रखा', 2),\n             ('गैप्स', 1),\n             ('पूरी', 4),\n             ('लाइन', 14),\n             ('फेंटें', 3),\n             ('उलटे', 1),\n             ('खिसका', 4),\n             ('ताशों', 1),\n             ('फेंट', 1),\n             ('आसपास', 1),\n             ('विविध', 6),\n             ('प्रथम', 8),\n             ('बाँटें', 2),\n             ('समूह', 55),\n             ('हाथ', 2),\n             ('बांट', 1),\n             ('असीमित', 1),\n             ('सौदों', 1),\n             ('विन्यास', 27),\n             ('अति', 1),\n             ('प्राकृतिक', 2),\n             ('योग्य', 99),\n             ('ध्येय', 1),\n             ('कीजिए', 1),\n             ('स्वचालित', 31),\n             ('तैयार', 8),\n             ('करने', 234),\n             ('जमाएँ', 1),\n             ('मोड', 56),\n             ('सुरक्षित', 10),\n             ('भरने', 9),\n             ('लायक', 9),\n             ('होते', 3),\n             ('पहले', 69),\n             ('जैसा', 11),\n             ('कृपया', 113),\n             ('भरें', 15),\n             ('सूइट', 2),\n             ('सूट', 3),\n             ('अस्थायी', 20),\n             ('स्पॉट', 1),\n             ('स्वीकारें', 13),\n             ('जनरल', 2),\n             ('पेशेंस', 1),\n             ('टूटते', 1),\n             ('तारे', 1),\n             ('सिन्योर', 1),\n             ('रेडहेड', 1),\n             ('ब्लॉड', 1),\n             ('बर्नेट', 1),\n             ('वुड', 1),\n             ('न्यास', 4),\n             ('प्रयोग', 113),\n             ('प्रगतिशील', 1),\n             ('राउंड', 1),\n             ('बहुल', 6),\n             ('स्कोरिंग', 1),\n             ('लोकप्रिय', 1),\n             ('जेब्रा', 1),\n             ('एसलियेरॉट', 1),\n             ('हिस्सा', 13),\n             ('प्रोग्राम', 72),\n             ('साथ', 95),\n             ('ग्नू', 1),\n             ('पब्लिक', 1),\n             ('लाइसेंस', 8),\n             ('प्रतिलिपि', 8),\n             ('मिलनी', 1),\n             ('कमांड', 42),\n             ('दस्तावेज़ों', 1),\n             ('स्वीकारता', 1),\n             ('चलाने', 11),\n             ('वाली', 18),\n             ('सत्र', 38),\n             ('प्रबंधक', 33),\n             ('कनेक्शन', 32),\n             ('अक्षम', 36),\n             ('सहेजे', 1),\n             ('कॉन्फ़िगरेशन', 3),\n             ('निर्धारित', 27),\n             ('प्रबंधन', 5),\n             ('विकल्पः', 5),\n             ('विकल्प', 78),\n             ('संस्थापन', 4),\n             ('स्लॉट', 1),\n             ('फाउन्डेशन', 1),\n             ('स्लाट', 1),\n             ('स्वयं', 11),\n             ('कोने', 1),\n             ('शीर्ष', 27),\n             ('दाएँ', 3),\n             ('ट्रैक', 33),\n             ('गलत', 25),\n             ('फाउण्डेशन', 1),\n             ('चित्र', 15),\n             ('पठारी', 1),\n             ('पांच', 1),\n             ('समुचित', 1),\n             ('पाइल', 1),\n             ('उचित', 6),\n             ('निरसनकर्ता', 1),\n             ('हटायें', 9),\n             ('खोज', 62),\n             ('दुग्गी', 1),\n             ('तिग्गी', 1),\n             ('चौका', 1),\n             ('अठा', 1),\n             ('जैक', 1),\n             ('तुम', 2),\n             ('नींव', 1),\n             ('चलायें', 5),\n             ('मेन्यू', 18),\n             ('कौन', 5),\n             ('अनुप्रयोगों', 9),\n             ('दिखाया', 14),\n             ('मेनू', 9),\n             ('भंडारित', 1),\n             ('जायें', 4),\n             ('बदलाव', 6),\n             ('सारे', 16),\n             ('जमावट', 7),\n             ('अंजूटा', 30),\n             ('विकास', 4),\n             ('स्ट्डियो', 2),\n             ('इटालिक', 2),\n             ('ग्रीक', 2),\n             ('रोमानियन', 2),\n             ('रूसी', 2),\n             ('कोरियन', 2),\n             ('जर्मन', 3),\n             ('रिमोट', 26),\n             ('कड़ियों', 2),\n             ('चला', 10),\n             ('सकता', 103),\n             ('कड़ी', 21),\n             ('हटा', 10),\n             ('लोड', 97),\n             ('अनियत', 8),\n             ('प्लगइंस', 1),\n             ('नष्ट', 18),\n             ('फाइल्स', 9),\n             ('दस्तावेज', 73),\n             ('मैनेजर', 12),\n             ('प्रोजेक्ट', 89),\n             ('प्लान', 3),\n             ('छैतिज', 20),\n             ('पैमाना', 24),\n             ('आक्टेल', 2),\n             ('अनुमतियां', 2),\n             ('मीटर', 4),\n             ('वरीयता', 12),\n             ('श्रेणी', 25),\n             ('फ़ाइलों', 14),\n             ('जोडे', 3),\n             ('है।', 7),\n             ('निर्माण', 22),\n             ('हिस्से', 13),\n             ('शार्टकट', 2),\n             ('बदलने', 12),\n             ('खोलने', 32),\n             ('सिस्टम', 27),\n             ('पाठ्य', 16),\n             ('मिली', 3),\n             ('बंद', 61),\n             ('चिपकाएं', 3),\n             ('टर्मिनल', 15),\n             ('चलाएं', 12),\n             ('कार्यकारी', 5),\n             ('डायरेक्टरी', 30),\n             ('समायोजन', 7),\n             ('सफलतापूर्वक', 31),\n             ('फ्लापी', 6),\n             ('फार्मेट', 10),\n             ('निर्देश', 14),\n             ('बाल्सा', 11),\n             ('कान्फिगर', 7),\n             ('जेबिल्डर', 1),\n             ('खोलें', 106),\n             ('सोर्स', 23),\n             ('जाएं', 7),\n             ('प्रिंट', 10),\n             ('प्रतियां', 4),\n             ('कापी', 15),\n             ('सबको', 12),\n             ('कमिट', 20),\n             ('फिल्टर', 55),\n             ('चयनित', 120),\n             ('अपडेट', 11),\n             ('अद्यतन', 23),\n             ('लाग', 6),\n             ('आन', 3),\n             ('जानकारी', 32),\n             ('लेखक', 12),\n             ('होस्ट', 29),\n             ('वैध', 15),\n             ('जिप', 6),\n             ('ड्राइव', 17),\n             ('सामान्य', 34),\n             ('हेडर', 20),\n             ('आइकान', 3),\n             ('अवैध', 54),\n             ('हैडर', 4),\n             ('लकीर', 18),\n             ('विशेषताएँ', 10),\n             ('खास', 3),\n             ('सोर्सफोर्ज', 6),\n             ('जोड़ने', 18),\n             ('निश्चित', 9),\n             ('पाथ', 3),\n             ('नयी', 14),\n             ('लोगो', 3),\n             ('माॅड्यूल', 4),\n             ('सत्रें', 6),\n             ('भेजें', 64),\n             ('ग्लेड', 9),\n             ('स्टार्टअप', 10),\n             ('खुली', 6),\n             ('फाइलों', 17),\n             ('कया', 3),\n             ('सचमुच', 3),\n             ('लागाउट', 2),\n             ('चाहेंगे', 10),\n             ('डायरेक्ट्री', 5),\n             ('टिप्पणी', 16),\n             ('संग्रहित', 22),\n             ('स्टेटस', 3),\n             ('प्रदर्शित', 32),\n             ('गनू', 1),\n             ('भाग', 5),\n             ('घर', 12),\n             ('दश्य', 3),\n             ('स्पेसिंग', 2),\n             ('ब्रेकपाइंट', 28),\n             ('समायोजित', 36),\n             ('प्रविष्टि', 13),\n             ('डिबग', 15),\n             ('खराबी', 4),\n             ('दूर', 16),\n             ('संख्या', 61),\n             ('इनेबल', 2),\n             ('डालो', 2),\n             ('कर्नल', 2),\n             ('मेमोरी', 5),\n             ('इन्टरनेट', 2),\n             ('विशेषताएं', 1),\n             ('रोकें', 27),\n             ('हाँ', 3),\n             ('जारी', 25),\n             ('अछम', 3),\n             ('हस्ताछर', 17),\n             ('हटाओ', 8),\n             ('डायलाग', 8),\n             ('विस्तार', 22),\n             ('ट्रेश', 6),\n             ('आयटम्स', 2),\n             ('हमेशा', 15),\n             ('डिलीट', 7),\n             ('प्रस्तुत', 6),\n             ('आखिरी', 5),\n             ('अंशों', 4),\n             ('प्ले', 5),\n             ('प्रगति', 11),\n             ('टैग', 32),\n             ('तरीका', 13),\n             ('प्रोग्रामों', 1),\n             ('दिखाएंः', 1),\n             ('डिबगर', 17),\n             ('अंदर', 14),\n             ('अनडू', 3),\n             ('लछ्य', 3),\n             ('दिशा', 14),\n             ('तथा', 13),\n             ('व', 24),\n             ('द्धि', 2),\n             ('विघटित', 4),\n             ('लायब्रेरी', 5),\n             ('व्यंजक', 2),\n             ('बटन', 34),\n             ('टागल', 11),\n             ('अवस्था', 11),\n             ('शब्द', 27),\n             ('दिखाता', 2),\n             ('चलने', 4),\n             ('वाले', 56),\n             ('एल्बम', 1),\n             ('कलाकार', 3),\n             ('एवं', 4),\n             ('बीते', 1),\n             ('काल', 35),\n             ('संदेश', 240),\n             ('भेजने', 12),\n             ('वालों', 4),\n             ('उत्तर', 20),\n             ('विकल्पों', 10),\n             ('सन्ग्रहित', 7),\n             ('करे', 29),\n             ('यहाँ', 21),\n             ('सुधार', 2),\n             ('कचरे', 17),\n             ('फ्रेम', 21),\n             ('चिपचिपा', 2),\n             ('उपयोगकर्ता', 22),\n             ('पीथ्रेड्स', 1),\n             ('रेग्युलर', 11),\n             ('एक्सप्रेशन', 16),\n             ...])"
     },
     "execution_count": 96,
     "metadata": {},
     "output_type": "execute_result"
    }
   ],
   "source": [
    "hin_tokenizer.word_counts"
   ],
   "metadata": {
    "collapsed": false,
    "pycharm": {
     "name": "#%%\n"
    }
   }
  },
  {
   "cell_type": "code",
   "execution_count": 74,
   "outputs": [],
   "source": [
    "trainX = encode_sequences(eng_tokenizer, eng_length, train.iloc[:,0])\n",
    "trainY = encode_sequences(hin_tokenizer, hin_length, train.iloc[:,1])\n",
    "trainY = encode_output(trainY, hin_vocab_size)"
   ],
   "metadata": {
    "collapsed": false,
    "pycharm": {
     "name": "#%%\n"
    }
   }
  },
  {
   "cell_type": "code",
   "execution_count": 99,
   "outputs": [
    {
     "data": {
      "text/plain": "0         अपने अनुप्रयोग को पहुंचनीयता व्यायाम का लाभ दें\n1                         एक्सेर्साइसर पहुंचनीयता अन्वेषक\n2                   निचले पटल के लिए डिफोल्ट प्लग इन खाका\n3                    ऊपरी पटल के लिए डिफोल्ट प्लग इन खाका\n4       उन प्लग इनों की सूची जिन्हें डिफोल्ट रूप से नि...\n                              ...                        \n7995               आपको इस चैनल से प्रतिबंधित किया गया है\n7996                                     चैनल पूरा भरा है\n7997    आप इस चैनल में शामिल होने के लिए आमंत्रित किया...\n7998     जब डिस्कनेक्ट कर दिया है तो आगे नहीं बढ़ सकते है\n7999                                      अनुमति अस्वीकृत\nName: clean_hindi, Length: 8000, dtype: object"
     },
     "execution_count": 99,
     "metadata": {},
     "output_type": "execute_result"
    }
   ],
   "source": [
    "train.iloc[:,1]"
   ],
   "metadata": {
    "collapsed": false,
    "pycharm": {
     "name": "#%%\n"
    }
   }
  },
  {
   "cell_type": "code",
   "execution_count": 75,
   "outputs": [],
   "source": [
    "testX = encode_sequences(eng_tokenizer, eng_length, test.iloc[:,0])\n",
    "testY = encode_sequences(hin_tokenizer, hin_length, test.iloc[:,1])\n",
    "testY = encode_output(testY, hin_vocab_size)"
   ],
   "metadata": {
    "collapsed": false,
    "pycharm": {
     "name": "#%%\n"
    }
   }
  },
  {
   "cell_type": "code",
   "execution_count": 79,
   "outputs": [
    {
     "name": "stdout",
     "output_type": "stream",
     "text": [
      "Model: \"sequential_3\"\n",
      "_________________________________________________________________\n",
      " Layer (type)                Output Shape              Param #   \n",
      "=================================================================\n",
      " embedding_4 (Embedding)     (None, 64, 256)           903424    \n",
      "                                                                 \n",
      " lstm_8 (LSTM)               (None, 256)               525312    \n",
      "                                                                 \n",
      " repeat_vector_4 (RepeatVect  (None, 81, 256)          0         \n",
      " or)                                                             \n",
      "                                                                 \n",
      " lstm_9 (LSTM)               (None, 81, 256)           525312    \n",
      "                                                                 \n",
      " time_distributed_4 (TimeDis  (None, 81, 4319)         1109983   \n",
      " tributed)                                                       \n",
      "                                                                 \n",
      "=================================================================\n",
      "Total params: 3,064,031\n",
      "Trainable params: 3,064,031\n",
      "Non-trainable params: 0\n",
      "_________________________________________________________________\n",
      "You must install pydot (`pip install pydot`) and install graphviz (see instructions at https://graphviz.gitlab.io/download/) for plot_model/model_to_dot to work.\n"
     ]
    }
   ],
   "source": [
    "model = define_model(eng_vocab_size, hin_vocab_size, eng_length, hin_length, 256)"
   ],
   "metadata": {
    "collapsed": false,
    "pycharm": {
     "name": "#%%\n"
    }
   }
  },
  {
   "cell_type": "code",
   "execution_count": 81,
   "outputs": [
    {
     "name": "stdout",
     "output_type": "stream",
     "text": [
      "Epoch 1/20\n",
      "125/125 [==============================] - 96s 733ms/step - loss: 1.2041 - accuracy: 0.9382 - val_loss: 0.6195 - val_accuracy: 0.9270\n",
      "Epoch 2/20\n",
      "125/125 [==============================] - 87s 698ms/step - loss: 0.4370 - accuracy: 0.9441 - val_loss: 0.6288 - val_accuracy: 0.9220\n",
      "Epoch 3/20\n",
      "125/125 [==============================] - 89s 710ms/step - loss: 0.4256 - accuracy: 0.9433 - val_loss: 0.5911 - val_accuracy: 0.9254\n",
      "Epoch 4/20\n",
      "125/125 [==============================] - 88s 703ms/step - loss: 0.4438 - accuracy: 0.9406 - val_loss: 0.5623 - val_accuracy: 0.9283\n",
      "Epoch 5/20\n",
      "125/125 [==============================] - 87s 699ms/step - loss: 0.3955 - accuracy: 0.9454 - val_loss: 0.5678 - val_accuracy: 0.9283\n",
      "Epoch 6/20\n",
      "125/125 [==============================] - 86s 690ms/step - loss: 0.3654 - accuracy: 0.9483 - val_loss: 0.5565 - val_accuracy: 0.9294\n",
      "Epoch 7/20\n",
      "125/125 [==============================] - 86s 688ms/step - loss: 0.3597 - accuracy: 0.9485 - val_loss: 0.5520 - val_accuracy: 0.9299\n",
      "Epoch 8/20\n",
      "125/125 [==============================] - 85s 680ms/step - loss: 0.3550 - accuracy: 0.9487 - val_loss: 0.5625 - val_accuracy: 0.9289\n",
      "Epoch 9/20\n",
      "125/125 [==============================] - 85s 679ms/step - loss: 0.3525 - accuracy: 0.9486 - val_loss: 0.5599 - val_accuracy: 0.9298\n",
      "Epoch 10/20\n",
      "125/125 [==============================] - 85s 679ms/step - loss: 0.3505 - accuracy: 0.9486 - val_loss: 0.5574 - val_accuracy: 0.9299\n",
      "Epoch 11/20\n",
      "125/125 [==============================] - 84s 672ms/step - loss: 0.3483 - accuracy: 0.9487 - val_loss: 0.5613 - val_accuracy: 0.9299\n",
      "Epoch 12/20\n",
      "125/125 [==============================] - 84s 669ms/step - loss: 0.3440 - accuracy: 0.9488 - val_loss: 0.5488 - val_accuracy: 0.9306\n",
      "Epoch 13/20\n",
      "125/125 [==============================] - 84s 670ms/step - loss: 0.3377 - accuracy: 0.9492 - val_loss: 0.5464 - val_accuracy: 0.9313\n",
      "Epoch 14/20\n",
      "125/125 [==============================] - 84s 670ms/step - loss: 0.3349 - accuracy: 0.9492 - val_loss: 0.5633 - val_accuracy: 0.9315\n",
      "Epoch 15/20\n",
      "125/125 [==============================] - 84s 671ms/step - loss: 0.3326 - accuracy: 0.9493 - val_loss: 0.5543 - val_accuracy: 0.9312\n",
      "Epoch 16/20\n",
      "125/125 [==============================] - 84s 676ms/step - loss: 0.3301 - accuracy: 0.9494 - val_loss: 0.5668 - val_accuracy: 0.9303\n",
      "Epoch 17/20\n",
      "125/125 [==============================] - 84s 672ms/step - loss: 0.3270 - accuracy: 0.9494 - val_loss: 0.5687 - val_accuracy: 0.9303\n",
      "Epoch 18/20\n",
      "125/125 [==============================] - 85s 677ms/step - loss: 0.3237 - accuracy: 0.9495 - val_loss: 0.5844 - val_accuracy: 0.9294\n",
      "Epoch 19/20\n",
      "125/125 [==============================] - 84s 676ms/step - loss: 0.3181 - accuracy: 0.9497 - val_loss: 0.5901 - val_accuracy: 0.9288\n",
      "Epoch 20/20\n",
      "125/125 [==============================] - 91s 729ms/step - loss: 0.3146 - accuracy: 0.9498 - val_loss: 0.5779 - val_accuracy: 0.9290\n"
     ]
    },
    {
     "data": {
      "text/plain": "<keras.callbacks.History at 0x1367ee81d60>"
     },
     "execution_count": 81,
     "metadata": {},
     "output_type": "execute_result"
    }
   ],
   "source": [
    "from tensorflow.python.keras.callbacks import ModelCheckpoint\n",
    "\n",
    "# checkpoint= ModelCheckpoint(\"../Model/model.h5\",save_best_only=True,monitor='val_loss',verbose=1,mode='min')\n",
    "model.fit(trainX, trainY, epochs=20, batch_size=64, validation_data = (testX, testY))"
   ],
   "metadata": {
    "collapsed": false,
    "pycharm": {
     "name": "#%%\n"
    }
   }
  },
  {
   "cell_type": "code",
   "execution_count": 82,
   "outputs": [],
   "source": [
    "import pickle\n",
    "\n",
    "model.save(\"../Model/text_translation.h5\")\n",
    "pickle.dump(hin_tokenizer,open(\"../Model/hin_tokenizer.pkl\",\"wb\"))\n",
    "pickle.dump(eng_tokenizer,open(\"../Model/eng_tokenizer.pkl\",\"wb\"))"
   ],
   "metadata": {
    "collapsed": false,
    "pycharm": {
     "name": "#%%\n"
    }
   }
  },
  {
   "cell_type": "code",
   "execution_count": 83,
   "outputs": [],
   "source": [
    "def word_for_id(integer, tokenizer):\n",
    "    for word, index in tokenizer.word_index.items():\n",
    "        if index == integer:\n",
    "            return word\n",
    "    return None"
   ],
   "metadata": {
    "collapsed": false,
    "pycharm": {
     "name": "#%%\n"
    }
   }
  },
  {
   "cell_type": "code",
   "execution_count": 84,
   "outputs": [],
   "source": [
    "from numpy import argmax\n",
    "\n",
    "def predict_sequence(model, tokenizer, source):\n",
    "    prediction = model.predict(source, verbose=0)[0]\n",
    "    integers = [argmax(vector) for vector in prediction]\n",
    "    target = list()\n",
    "    for i in integers:\n",
    "        word = word_for_id(i, tokenizer)\n",
    "        if word is None:\n",
    "            break\n",
    "        target.append(word)\n",
    "    return ' '.join(target)"
   ],
   "metadata": {
    "collapsed": false,
    "pycharm": {
     "name": "#%%\n"
    }
   }
  },
  {
   "cell_type": "code",
   "execution_count": 87,
   "outputs": [],
   "source": [
    "def translate(model,sources, raw_dataset):\n",
    "    actual, predicted = list(), list()\n",
    "    for i, source in enumerate(sources):\n",
    "        # print(i,sources)\n",
    "        source = source.reshape((1,source.shape[0]))\n",
    "        translation = predict_sequence(model, hin_tokenizer, source)\n",
    "        raw_src,raw_target = raw_dataset.iloc[i]\n",
    "        if i < 10:\n",
    "            print('src = [%s], target = [%s], predicted = [%s]' %(raw_src, raw_target, translation))\n",
    "        actual.append(raw_target.split())\n",
    "        predicted.append(translation.split())"
   ],
   "metadata": {
    "collapsed": false,
    "pycharm": {
     "name": "#%%\n"
    }
   }
  },
  {
   "cell_type": "code",
   "execution_count": 100,
   "outputs": [
    {
     "name": "stdout",
     "output_type": "stream",
     "text": [
      "src = [give your application an accessibility workout], target = [अपने अनुप्रयोग को पहुंचनीयता व्यायाम का लाभ दें], predicted = [क्या के के के के है है]\n",
      "src = [accerciser accessibility explorer], target = [एक्सेर्साइसर पहुंचनीयता अन्वेषक], predicted = [फ़ॉन्ट सेट]\n",
      "src = [the default plugin layout for the bottom panel], target = [निचले पटल के लिए डिफोल्ट प्लग इन खाका], predicted = [कृपया के के के के लिए]\n",
      "src = [the default plugin layout for the top panel], target = [ऊपरी पटल के लिए डिफोल्ट प्लग इन खाका], predicted = [कृपया के के के के लिए]\n",
      "src = [a list of plugins that are disabled by default], target = [उन प्लग इनों की सूची जिन्हें डिफोल्ट रूप से निष्क्रिय किया गया है], predicted = [क्या के के के के के के के के]\n",
      "src = [highlight duration], target = [अवधि को हाइलाइट रकें], predicted = [कोई का]\n",
      "src = [the duration of the highlight box when selecting accessible nodes], target = [पहुंचनीय आसंधि  नोड  को चुनते समय हाइलाइट बक्से की अवधि], predicted = [क्या के के के के के के के]\n",
      "src = [highlight border color], target = [सीमांत  बोर्डर  के रंग को हाइलाइट करें], predicted = [कोई के के नहीं]\n",
      "src = [the color and opacity of the highlight border], target = [हाइलाइट किए गए सीमांत का रंग और अपारदर्शिता।], predicted = [डिस्क के के के लिए लिए]\n",
      "src = [highlight fill color], target = [भराई के रंग को हाइलाइट करें], predicted = [कोई के के नहीं]\n"
     ]
    }
   ],
   "source": [
    "translate(model,trainX,train)"
   ],
   "metadata": {
    "collapsed": false,
    "pycharm": {
     "name": "#%%\n"
    }
   }
  },
  {
   "cell_type": "code",
   "execution_count": 101,
   "outputs": [
    {
     "name": "stdout",
     "output_type": "stream",
     "text": [
      "src = [there was an error starting the conversation], target = [वार्तालाप शुरू करने में त्रुटि थी], predicted = [क्या के के के के है है]\n",
      "src = [click to remove this status as a favorite], target = [पसंदीदा रूप से इस स्थिति को दूर करने के लिए क्लिक करें], predicted = [क्या के के के के के के के के है है]\n",
      "src = [click to make this status a favorite], target = [इसे पसंदीदा स्थिति बनाने के लिए क्लिक करें], predicted = [क्या को के के के के के है है]\n",
      "src = [the identity provided by the chat server cannot be verified], target = [चैट सर्वर द्वारा प्रदान की पहचान सत्यापित नहीं किया जा सकता है], predicted = [क्या के के के के के के है है]\n",
      "src = [the certificate is not signed by a certification authority], target = [प्रमाणपत्र प्रमाणन प्राधिकारी द्वारा हस्ताक्षरित नहीं है], predicted = [क्या के के के के है]\n",
      "src = [the certificate hasn  t yet been activated], target = [प्रमाण पत्र अभी तक सक्रिय नहीं किया गया], predicted = [एक में]\n",
      "src = [the certificate does not have the expected fingerprint], target = [प्रमाणपत्र पर अपेक्षित फिंगरप्रिंट नहीं है], predicted = [कृपया के के के लिए]\n",
      "src = [the hostname verified by the certificate doesn  t match the server name], target = [प्रमाण पत्र द्वारा सत्यापित होस्टनाम का मेल सर्वर से नहीं है], predicted = [क्या के के के के के है]\n",
      "src = [the certificate has been revoked by the issuing certification authority], target = [प्रमाण पत्र जारीकर्ता प्रमाणन प्राधिकरण के द्वारा रद्द कर दिया गया है], predicted = [क्या के के के के के के है]\n",
      "src = [the certificate is cryptographically weak], target = [प्रमाणपत्र क्रिप्टोग्राफी कमजोर है], predicted = [क्या के के लिए]\n"
     ]
    }
   ],
   "source": [
    "translate(model,testX,test)"
   ],
   "metadata": {
    "collapsed": false,
    "pycharm": {
     "name": "#%%\n"
    }
   }
  }
 ],
 "metadata": {
  "kernelspec": {
   "display_name": "Python 3 (ipykernel)",
   "language": "python",
   "name": "python3"
  },
  "language_info": {
   "codemirror_mode": {
    "name": "ipython",
    "version": 3
   },
   "file_extension": ".py",
   "mimetype": "text/x-python",
   "name": "python",
   "nbconvert_exporter": "python",
   "pygments_lexer": "ipython3",
   "version": "3.9.13"
  }
 },
 "nbformat": 4,
 "nbformat_minor": 1
}